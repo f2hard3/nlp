{
 "cells": [
  {
   "cell_type": "code",
   "execution_count": 1,
   "metadata": {},
   "outputs": [
    {
     "name": "stderr",
     "output_type": "stream",
     "text": [
      "2023-08-24 01:36:23.145342: I tensorflow/core/platform/cpu_feature_guard.cc:182] This TensorFlow binary is optimized to use available CPU instructions in performance-critical operations.\n",
      "To enable the following instructions: AVX2 AVX512F FMA, in other operations, rebuild TensorFlow with the appropriate compiler flags.\n"
     ]
    }
   ],
   "source": [
    "import numpy as np\n",
    "import pandas as pd\n",
    "import matplotlib.pyplot as plt\n",
    "import tensorflow as tf\n",
    "import sentencepiece as spm\n",
    "from tensorflow.keras.models import Model\n",
    "from tensorflow.keras.layers import Dense, Embedding, Input, LSTM\n",
    "from tensorflow.keras.preprocessing.sequence import pad_sequences\n",
    "from tensorflow.keras.utils import plot_model"
   ]
  },
  {
   "cell_type": "code",
   "execution_count": 2,
   "metadata": {},
   "outputs": [],
   "source": [
    "LATENT_DIM = 128\n",
    "EMBEDDING_DIM = 100"
   ]
  },
  {
   "cell_type": "code",
   "execution_count": 3,
   "metadata": {},
   "outputs": [
    {
     "data": {
      "text/html": [
       "<div>\n",
       "<style scoped>\n",
       "    .dataframe tbody tr th:only-of-type {\n",
       "        vertical-align: middle;\n",
       "    }\n",
       "\n",
       "    .dataframe tbody tr th {\n",
       "        vertical-align: top;\n",
       "    }\n",
       "\n",
       "    .dataframe thead th {\n",
       "        text-align: right;\n",
       "    }\n",
       "</style>\n",
       "<table border=\"1\" class=\"dataframe\">\n",
       "  <thead>\n",
       "    <tr style=\"text-align: right;\">\n",
       "      <th></th>\n",
       "      <th>Q</th>\n",
       "      <th>A</th>\n",
       "      <th>label</th>\n",
       "    </tr>\n",
       "  </thead>\n",
       "  <tbody>\n",
       "    <tr>\n",
       "      <th>0</th>\n",
       "      <td>12시 땡!</td>\n",
       "      <td>하루가 또 가네요.</td>\n",
       "      <td>0</td>\n",
       "    </tr>\n",
       "    <tr>\n",
       "      <th>1</th>\n",
       "      <td>1지망 학교 떨어졌어</td>\n",
       "      <td>위로해 드립니다.</td>\n",
       "      <td>0</td>\n",
       "    </tr>\n",
       "    <tr>\n",
       "      <th>2</th>\n",
       "      <td>3박4일 놀러가고 싶다</td>\n",
       "      <td>여행은 언제나 좋죠.</td>\n",
       "      <td>0</td>\n",
       "    </tr>\n",
       "    <tr>\n",
       "      <th>3</th>\n",
       "      <td>3박4일 정도 놀러가고 싶다</td>\n",
       "      <td>여행은 언제나 좋죠.</td>\n",
       "      <td>0</td>\n",
       "    </tr>\n",
       "    <tr>\n",
       "      <th>4</th>\n",
       "      <td>PPL 심하네</td>\n",
       "      <td>눈살이 찌푸려지죠.</td>\n",
       "      <td>0</td>\n",
       "    </tr>\n",
       "    <tr>\n",
       "      <th>...</th>\n",
       "      <td>...</td>\n",
       "      <td>...</td>\n",
       "      <td>...</td>\n",
       "    </tr>\n",
       "    <tr>\n",
       "      <th>11818</th>\n",
       "      <td>훔쳐보는 것도 눈치 보임.</td>\n",
       "      <td>티가 나니까 눈치가 보이는 거죠!</td>\n",
       "      <td>2</td>\n",
       "    </tr>\n",
       "    <tr>\n",
       "      <th>11819</th>\n",
       "      <td>훔쳐보는 것도 눈치 보임.</td>\n",
       "      <td>훔쳐보는 거 티나나봐요.</td>\n",
       "      <td>2</td>\n",
       "    </tr>\n",
       "    <tr>\n",
       "      <th>11820</th>\n",
       "      <td>흑기사 해주는 짝남.</td>\n",
       "      <td>설렜겠어요.</td>\n",
       "      <td>2</td>\n",
       "    </tr>\n",
       "    <tr>\n",
       "      <th>11821</th>\n",
       "      <td>힘든 연애 좋은 연애라는게 무슨 차이일까?</td>\n",
       "      <td>잘 헤어질 수 있는 사이 여부인 거 같아요.</td>\n",
       "      <td>2</td>\n",
       "    </tr>\n",
       "    <tr>\n",
       "      <th>11822</th>\n",
       "      <td>힘들어서 결혼할까봐</td>\n",
       "      <td>도피성 결혼은 하지 않길 바라요.</td>\n",
       "      <td>2</td>\n",
       "    </tr>\n",
       "  </tbody>\n",
       "</table>\n",
       "<p>11823 rows × 3 columns</p>\n",
       "</div>"
      ],
      "text/plain": [
       "                             Q                         A  label\n",
       "0                       12시 땡!                하루가 또 가네요.      0\n",
       "1                  1지망 학교 떨어졌어                 위로해 드립니다.      0\n",
       "2                 3박4일 놀러가고 싶다               여행은 언제나 좋죠.      0\n",
       "3              3박4일 정도 놀러가고 싶다               여행은 언제나 좋죠.      0\n",
       "4                      PPL 심하네                눈살이 찌푸려지죠.      0\n",
       "...                        ...                       ...    ...\n",
       "11818           훔쳐보는 것도 눈치 보임.        티가 나니까 눈치가 보이는 거죠!      2\n",
       "11819           훔쳐보는 것도 눈치 보임.             훔쳐보는 거 티나나봐요.      2\n",
       "11820              흑기사 해주는 짝남.                    설렜겠어요.      2\n",
       "11821  힘든 연애 좋은 연애라는게 무슨 차이일까?  잘 헤어질 수 있는 사이 여부인 거 같아요.      2\n",
       "11822               힘들어서 결혼할까봐        도피성 결혼은 하지 않길 바라요.      2\n",
       "\n",
       "[11823 rows x 3 columns]"
      ]
     },
     "execution_count": 3,
     "metadata": {},
     "output_type": "execute_result"
    }
   ],
   "source": [
    "df = pd.read_csv('https://github.com/ironmanciti/NLP_Lecture/raw/master/data/ChatbotData.csv')\n",
    "df"
   ]
  },
  {
   "cell_type": "code",
   "execution_count": 4,
   "metadata": {},
   "outputs": [
    {
     "name": "stdout",
     "output_type": "stream",
     "text": [
      "<class 'pandas.core.frame.DataFrame'>\n",
      "RangeIndex: 11823 entries, 0 to 11822\n",
      "Data columns (total 3 columns):\n",
      " #   Column  Non-Null Count  Dtype \n",
      "---  ------  --------------  ----- \n",
      " 0   Q       11823 non-null  object\n",
      " 1   A       11823 non-null  object\n",
      " 2   label   11823 non-null  int64 \n",
      "dtypes: int64(1), object(2)\n",
      "memory usage: 277.2+ KB\n"
     ]
    }
   ],
   "source": [
    "df.info()"
   ]
  },
  {
   "cell_type": "code",
   "execution_count": 5,
   "metadata": {},
   "outputs": [
    {
     "data": {
      "text/plain": [
       "array([['12시 땡!', '하루가 또 가네요.'],\n",
       "       ['1지망 학교 떨어졌어', '위로해 드립니다.'],\n",
       "       ['3박4일 놀러가고 싶다', '여행은 언제나 좋죠.'],\n",
       "       ...,\n",
       "       ['흑기사 해주는 짝남.', '설렜겠어요.'],\n",
       "       ['힘든 연애 좋은 연애라는게 무슨 차이일까?', '잘 헤어질 수 있는 사이 여부인 거 같아요.'],\n",
       "       ['힘들어서 결혼할까봐', '도피성 결혼은 하지 않길 바라요.']], dtype=object)"
      ]
     },
     "execution_count": 5,
     "metadata": {},
     "output_type": "execute_result"
    }
   ],
   "source": [
    "df.iloc[:, [0, 1]].values"
   ]
  },
  {
   "cell_type": "code",
   "execution_count": 6,
   "metadata": {},
   "outputs": [
    {
     "data": {
      "text/plain": [
       "(23646, 11823, 11823)"
      ]
     },
     "execution_count": 6,
     "metadata": {},
     "output_type": "execute_result"
    }
   ],
   "source": [
    "q_texts = []\n",
    "a_texts = []\n",
    "for q, a in df.iloc[:, [0, 1]].values:\n",
    "    q_texts.append(q)\n",
    "    a_texts.append(a)\n",
    "all_texts = q_texts + a_texts\n",
    "\n",
    "len(all_texts), len(q_texts), len(a_texts)"
   ]
  },
  {
   "cell_type": "code",
   "execution_count": 7,
   "metadata": {},
   "outputs": [
    {
     "name": "stdout",
     "output_type": "stream",
     "text": [
      "['12시 땡!', '1지망 학교 떨어졌어', '3박4일 놀러가고 싶다', '3박4일 정도 놀러가고 싶다', 'PPL 심하네']\n",
      "['하루가 또 가네요.', '위로해 드립니다.', '여행은 언제나 좋죠.', '여행은 언제나 좋죠.', '눈살이 찌푸려지죠.']\n"
     ]
    }
   ],
   "source": [
    "print(q_texts[:5])\n",
    "print(a_texts[:5])"
   ]
  },
  {
   "cell_type": "code",
   "execution_count": 8,
   "metadata": {},
   "outputs": [],
   "source": [
    "with open('data/chatbot_qna.txt', 'w', encoding='utf-8') as f:\n",
    "    for line in all_texts:\n",
    "        f.write(line + '\\n')"
   ]
  },
  {
   "cell_type": "code",
   "execution_count": 9,
   "metadata": {},
   "outputs": [
    {
     "name": "stderr",
     "output_type": "stream",
     "text": [
      "sentencepiece_trainer.cc(177) LOG(INFO) Running command: --input=data/chatbot_qna.txt         --model_prefix=chatbot_qna         --vocab_size=5000         --pad_id=0         --bos_id=1         --eos_id=2         --unk_id=3\n",
      "sentencepiece_trainer.cc(77) LOG(INFO) Starts training with : \n",
      "trainer_spec {\n",
      "  input: data/chatbot_qna.txt\n",
      "  input_format: \n",
      "  model_prefix: chatbot_qna\n",
      "  model_type: UNIGRAM\n",
      "  vocab_size: 5000\n",
      "  self_test_sample_size: 0\n",
      "  character_coverage: 0.9995\n",
      "  input_sentence_size: 0\n",
      "  shuffle_input_sentence: 1\n",
      "  seed_sentencepiece_size: 1000000\n",
      "  shrinking_factor: 0.75\n",
      "  max_sentence_length: 4192\n",
      "  num_threads: 16\n",
      "  num_sub_iterations: 2\n",
      "  max_sentencepiece_length: 16\n",
      "  split_by_unicode_script: 1\n",
      "  split_by_number: 1\n",
      "  split_by_whitespace: 1\n",
      "  split_digits: 0\n",
      "  pretokenization_delimiter: \n",
      "  treat_whitespace_as_suffix: 0\n",
      "  allow_whitespace_only_pieces: 0\n",
      "  required_chars: \n",
      "  byte_fallback: 0\n",
      "  vocabulary_output_piece_score: 1\n",
      "  train_extremely_large_corpus: 0\n",
      "  hard_vocab_limit: 1\n",
      "  use_all_vocab: 0\n",
      "  unk_id: 3\n",
      "  bos_id: 1\n",
      "  eos_id: 2\n",
      "  pad_id: 0\n",
      "  unk_piece: <unk>\n",
      "  bos_piece: <s>\n",
      "  eos_piece: </s>\n",
      "  pad_piece: <pad>\n",
      "  unk_surface:  ⁇ \n",
      "  enable_differential_privacy: 0\n",
      "  differential_privacy_noise_level: 0\n",
      "  differential_privacy_clipping_threshold: 0\n",
      "}\n",
      "normalizer_spec {\n",
      "  name: nmt_nfkc\n",
      "  add_dummy_prefix: 1\n",
      "  remove_extra_whitespaces: 1\n",
      "  escape_whitespaces: 1\n",
      "  normalization_rule_tsv: \n",
      "}\n",
      "denormalizer_spec {}\n",
      "trainer_interface.cc(351) LOG(INFO) SentenceIterator is not specified. Using MultiFileSentenceIterator.\n",
      "trainer_interface.cc(183) LOG(INFO) Loading corpus: data/chatbot_qna.txt\n",
      "trainer_interface.cc(407) LOG(INFO) Loaded all 23646 sentences\n",
      "trainer_interface.cc(423) LOG(INFO) Adding meta_piece: <pad>\n",
      "trainer_interface.cc(423) LOG(INFO) Adding meta_piece: <s>\n",
      "trainer_interface.cc(423) LOG(INFO) Adding meta_piece: </s>\n",
      "trainer_interface.cc(423) LOG(INFO) Adding meta_piece: <unk>\n",
      "trainer_interface.cc(428) LOG(INFO) Normalizing sentences...\n",
      "trainer_interface.cc(537) LOG(INFO) all chars count=353449\n",
      "trainer_interface.cc(548) LOG(INFO) Done: 99.9502% characters are covered.\n",
      "trainer_interface.cc(558) LOG(INFO) Alphabet size=1085\n",
      "trainer_interface.cc(559) LOG(INFO) Final character coverage=0.999502\n",
      "trainer_interface.cc(591) LOG(INFO) Done! preprocessed 23646 sentences.\n",
      "unigram_model_trainer.cc(222) LOG(INFO) Making suffix array...\n",
      "unigram_model_trainer.cc(226) LOG(INFO) Extracting frequent sub strings... node_num=162596\n",
      "unigram_model_trainer.cc(274) LOG(INFO) Initialized 18866 seed sentencepieces\n",
      "trainer_interface.cc(597) LOG(INFO) Tokenizing input sentences with whitespace: 23646\n",
      "trainer_interface.cc(608) LOG(INFO) Done! 21781\n",
      "unigram_model_trainer.cc(564) LOG(INFO) Using 21781 sentences for EM training\n",
      "unigram_model_trainer.cc(580) LOG(INFO) EM sub_iter=0 size=10912 obj=13.23 num_tokens=46285 num_tokens/piece=4.24166\n",
      "unigram_model_trainer.cc(580) LOG(INFO) EM sub_iter=1 size=9598 obj=12.125 num_tokens=46421 num_tokens/piece=4.83653\n",
      "unigram_model_trainer.cc(580) LOG(INFO) EM sub_iter=0 size=7198 obj=12.468 num_tokens=49444 num_tokens/piece=6.86913\n",
      "unigram_model_trainer.cc(580) LOG(INFO) EM sub_iter=1 size=7197 obj=12.4111 num_tokens=49478 num_tokens/piece=6.87481\n",
      "unigram_model_trainer.cc(580) LOG(INFO) EM sub_iter=0 size=5500 obj=12.8775 num_tokens=53312 num_tokens/piece=9.69309\n",
      "unigram_model_trainer.cc(580) LOG(INFO) EM sub_iter=1 size=5500 obj=12.8031 num_tokens=53312 num_tokens/piece=9.69309\n",
      "trainer_interface.cc(686) LOG(INFO) Saving model: chatbot_qna.model\n",
      "trainer_interface.cc(698) LOG(INFO) Saving vocabs: chatbot_qna.vocab\n"
     ]
    }
   ],
   "source": [
    "input_ = 'data/chatbot_qna.txt'\n",
    "model_prefix = 'chatbot_qna'\n",
    "vocab_size = 5000\n",
    "pad_id = 0\n",
    "bos_id = 1\n",
    "eos_id = 2\n",
    "unk_id = 3\n",
    "\n",
    "cmd = f'--input={input_} \\\n",
    "        --model_prefix={model_prefix} \\\n",
    "        --vocab_size={vocab_size} \\\n",
    "        --pad_id={pad_id} \\\n",
    "        --bos_id={bos_id} \\\n",
    "        --eos_id={eos_id} \\\n",
    "        --unk_id={unk_id}'\n",
    "\n",
    "spm.SentencePieceTrainer.Train(cmd)"
   ]
  },
  {
   "cell_type": "code",
   "execution_count": 10,
   "metadata": {},
   "outputs": [
    {
     "data": {
      "text/plain": [
       "True"
      ]
     },
     "execution_count": 10,
     "metadata": {},
     "output_type": "execute_result"
    }
   ],
   "source": [
    "sp = spm.SentencePieceProcessor()\n",
    "sp.Load(f'data/{model_prefix}.model')"
   ]
  },
  {
   "cell_type": "code",
   "execution_count": 11,
   "metadata": {},
   "outputs": [
    {
     "data": {
      "text/plain": [
       "'운 나한테이 될고.'"
      ]
     },
     "execution_count": 11,
     "metadata": {},
     "output_type": "execute_result"
    }
   ],
   "source": [
    "sp.DecodeIds([170, 367, 10, 129, 16, 4])"
   ]
  },
  {
   "cell_type": "code",
   "execution_count": 12,
   "metadata": {},
   "outputs": [
    {
     "name": "stdout",
     "output_type": "stream",
     "text": [
      "['<s>', '▁아', '버', '지', '가', '▁방', '에', '▁들어가', '신', '다']\n",
      "[1, 232, 2112, 14, 7, 1467, 31, 1665, 455, 57]\n",
      "아버지가 방에 들어가신다\n",
      "아버지가 방에 들어가신다\n"
     ]
    }
   ],
   "source": [
    "sp.SetEncodeExtraOptions('bos:')\n",
    "pieces = sp.encode_as_pieces('아버지가 방에 들어가신다')\n",
    "print(pieces)\n",
    "ids = sp.encode_as_ids('아버지가 방에 들어가신다')\n",
    "print(ids)\n",
    "print(sp.DecodePieces(pieces))\n",
    "print(sp.DecodeIds(ids))"
   ]
  },
  {
   "cell_type": "code",
   "execution_count": 13,
   "metadata": {},
   "outputs": [
    {
     "name": "stdout",
     "output_type": "stream",
     "text": [
      "['▁아', '버', '지', '가', '▁방', '에', '▁들어가', '신', '다', '</s>']\n",
      "[232, 2112, 14, 7, 1467, 31, 1665, 455, 57, 2]\n",
      "아버지가 방에 들어가신다\n",
      "아버지가 방에 들어가신다\n"
     ]
    }
   ],
   "source": [
    "sp.SetEncodeExtraOptions(':eos')\n",
    "pieces = sp.encode_as_pieces('아버지가 방에 들어가신다')\n",
    "print(pieces)\n",
    "ids = sp.encode_as_ids('아버지가 방에 들어가신다')\n",
    "print(ids)\n",
    "print(sp.DecodePieces(pieces))\n",
    "print(sp.DecodeIds(ids))"
   ]
  },
  {
   "cell_type": "code",
   "execution_count": 14,
   "metadata": {},
   "outputs": [
    {
     "data": {
      "text/plain": [
       "[[4228, 299, 5, 4826, 72, 2],\n",
       " [291, 14, 933, 674, 1735, 2],\n",
       " [277, 1280, 2810, 76, 2964, 94, 2],\n",
       " [277, 1280, 2810, 76, 667, 2964, 94, 2],\n",
       " [5, 4549, 4549, 3, 1395, 64, 2]]"
      ]
     },
     "execution_count": 14,
     "metadata": {},
     "output_type": "execute_result"
    }
   ],
   "source": [
    "q_sequences = [sp.encode_as_ids(s) for s in q_texts]\n",
    "q_sequences[:5]"
   ]
  },
  {
   "cell_type": "code",
   "execution_count": 15,
   "metadata": {},
   "outputs": [
    {
     "data": {
      "text/plain": [
       "[[1, 282, 7, 113, 82, 23, 4],\n",
       " [1, 1459, 5, 3717, 4],\n",
       " [1, 293, 15, 385, 39, 207, 4],\n",
       " [1, 293, 15, 385, 39, 207, 4],\n",
       " [1, 208, 970, 10, 2434, 3090, 173, 14, 40, 4]]"
      ]
     },
     "execution_count": 15,
     "metadata": {},
     "output_type": "execute_result"
    }
   ],
   "source": [
    "sp.SetEncodeExtraOptions('bos:')\n",
    "a_sequences_input = [sp.encode_as_ids(s) for s in a_texts]\n",
    "a_sequences_input[:5]"
   ]
  },
  {
   "cell_type": "code",
   "execution_count": 16,
   "metadata": {},
   "outputs": [
    {
     "data": {
      "text/plain": [
       "[[282, 7, 113, 82, 23, 4, 2],\n",
       " [1459, 5, 3717, 4, 2],\n",
       " [293, 15, 385, 39, 207, 4, 2],\n",
       " [293, 15, 385, 39, 207, 4, 2],\n",
       " [208, 970, 10, 2434, 3090, 173, 14, 40, 4, 2]]"
      ]
     },
     "execution_count": 16,
     "metadata": {},
     "output_type": "execute_result"
    }
   ],
   "source": [
    "sp.SetEncodeExtraOptions(':eos')\n",
    "a_sequences_target = [sp.encode_as_ids(s) for s in a_texts]\n",
    "a_sequences_target[:5]"
   ]
  },
  {
   "cell_type": "code",
   "execution_count": 17,
   "metadata": {},
   "outputs": [
    {
     "name": "stdout",
     "output_type": "stream",
     "text": [
      "max_len_q: 56\n",
      "max_len_a: 76\n"
     ]
    },
    {
     "data": {
      "text/plain": [
       "(array([4.3400e+03, 1.1479e+04, 5.9500e+03, 1.3470e+03, 3.9900e+02,\n",
       "        8.2000e+01, 3.3000e+01, 1.1000e+01, 2.0000e+00, 3.0000e+00]),\n",
       " array([ 1. ,  8.5, 16. , 23.5, 31. , 38.5, 46. , 53.5, 61. , 68.5, 76. ]),\n",
       " <BarContainer object of 10 artists>)"
      ]
     },
     "execution_count": 17,
     "metadata": {},
     "output_type": "execute_result"
    },
    {
     "data": {
      "image/png": "[encoded data removed]",
      "text/plain": [
       "<Figure size 640x480 with 1 Axes>"
      ]
     },
     "metadata": {},
     "output_type": "display_data"
    }
   ],
   "source": [
    "max_len_q = max(len(s) for s in q_texts)\n",
    "print('max_len_q:', max_len_q)\n",
    "max_len_a = max(len(s) for s in a_texts)\n",
    "print('max_len_a:', max_len_a)\n",
    "\n",
    "plt.hist([len(s) for s in all_texts])"
   ]
  },
  {
   "cell_type": "code",
   "execution_count": 18,
   "metadata": {},
   "outputs": [],
   "source": [
    "MAX_LEN = 30"
   ]
  },
  {
   "cell_type": "code",
   "execution_count": 19,
   "metadata": {},
   "outputs": [
    {
     "data": {
      "text/plain": [
       "((11823, 30),\n",
       " array([   0,    0,    0,    0,    0,    0,    0,    0,    0,    0,    0,\n",
       "           0,    0,    0,    0,    0,    0,    0,    0,    0,    0,    0,\n",
       "           0,    0,    0,  162, 1680,  318, 2391,    2], dtype=int32))"
      ]
     },
     "execution_count": 19,
     "metadata": {},
     "output_type": "execute_result"
    }
   ],
   "source": [
    "encoder_input = pad_sequences(q_sequences, maxlen=MAX_LEN, padding='pre')\n",
    "encoder_input.shape, encoder_input[1500]"
   ]
  },
  {
   "cell_type": "code",
   "execution_count": 20,
   "metadata": {},
   "outputs": [
    {
     "data": {
      "text/plain": [
       "((11823, 30),\n",
       " array([   1, 1145,   33, 3040,   45,    4,    0,    0,    0,    0,    0,\n",
       "           0,    0,    0,    0,    0,    0,    0,    0,    0,    0,    0,\n",
       "           0,    0,    0,    0,    0,    0,    0,    0], dtype=int32))"
      ]
     },
     "execution_count": 20,
     "metadata": {},
     "output_type": "execute_result"
    }
   ],
   "source": [
    "decoder_input = pad_sequences(a_sequences_input, maxlen=MAX_LEN, padding='post')\n",
    "decoder_input.shape, decoder_input[1500]"
   ]
  },
  {
   "cell_type": "code",
   "execution_count": 21,
   "metadata": {},
   "outputs": [
    {
     "data": {
      "text/plain": [
       "((11823, 30),\n",
       " array([1145,   33, 3040,   45,    4,    2,    0,    0,    0,    0,    0,\n",
       "           0,    0,    0,    0,    0,    0,    0,    0,    0,    0,    0,\n",
       "           0,    0,    0,    0,    0,    0,    0,    0], dtype=int32))"
      ]
     },
     "execution_count": 21,
     "metadata": {},
     "output_type": "execute_result"
    }
   ],
   "source": [
    "decoder_target = pad_sequences(a_sequences_target, maxlen=MAX_LEN, padding='post')\n",
    "decoder_target.shape, decoder_target[1500]"
   ]
  },
  {
   "cell_type": "code",
   "execution_count": 22,
   "metadata": {},
   "outputs": [
    {
     "name": "stderr",
     "output_type": "stream",
     "text": [
      "2023-08-24 01:36:31.803690: I tensorflow/core/common_runtime/gpu/gpu_device.cc:1639] Created device /job:localhost/replica:0/task:0/device:GPU:0 with 6638 MB memory:  -> device: 0, name: GeForce RTX 2070 SUPER, pci bus id: 0000:3f:00.0, compute capability: 7.5\n"
     ]
    },
    {
     "name": "stdout",
     "output_type": "stream",
     "text": [
      "Model: \"model\"\n",
      "_________________________________________________________________\n",
      " Layer (type)                Output Shape              Param #   \n",
      "=================================================================\n",
      " Encoder_Input (InputLayer)  [(None, 30)]              0         \n",
      "                                                                 \n",
      " embedding (Embedding)       (None, 30, 100)           500100    \n",
      "                                                                 \n",
      " lstm (LSTM)                 [(None, 128),             117248    \n",
      "                              (None, 128),                       \n",
      "                              (None, 128)]                       \n",
      "                                                                 \n",
      "=================================================================\n",
      "Total params: 617348 (2.35 MB)\n",
      "Trainable params: 617348 (2.35 MB)\n",
      "Non-trainable params: 0 (0.00 Byte)\n",
      "_________________________________________________________________\n"
     ]
    }
   ],
   "source": [
    "encoder_input_ = Input(shape=(MAX_LEN,), name='Encoder_Input')\n",
    "embedding_encoder = Embedding(vocab_size + 1, EMBEDDING_DIM)\n",
    "x = embedding_encoder(encoder_input_)\n",
    "_, h, c = LSTM(LATENT_DIM, return_state=True)(x)\n",
    "encoder_states = [h, c]\n",
    "encoder_model = Model(encoder_input_, encoder_states)\n",
    "encoder_model.summary()"
   ]
  },
  {
   "cell_type": "code",
   "execution_count": 23,
   "metadata": {},
   "outputs": [
    {
     "name": "stdout",
     "output_type": "stream",
     "text": [
      "Model: \"model_1\"\n",
      "__________________________________________________________________________________________________\n",
      " Layer (type)                Output Shape                 Param #   Connected to                  \n",
      "==================================================================================================\n",
      " Encoder_Input (InputLayer)  [(None, 30)]                 0         []                            \n",
      "                                                                                                  \n",
      " Decoder_Input (InputLayer)  [(None, 30)]                 0         []                            \n",
      "                                                                                                  \n",
      " embedding (Embedding)       (None, 30, 100)              500100    ['Encoder_Input[0][0]']       \n",
      "                                                                                                  \n",
      " embedding_1 (Embedding)     (None, 30, 100)              500100    ['Decoder_Input[0][0]']       \n",
      "                                                                                                  \n",
      " lstm (LSTM)                 [(None, 128),                117248    ['embedding[0][0]']           \n",
      "                              (None, 128),                                                        \n",
      "                              (None, 128)]                                                        \n",
      "                                                                                                  \n",
      " lstm_1 (LSTM)               [(None, 30, 128),            117248    ['embedding_1[0][0]',         \n",
      "                              (None, 128),                           'lstm[0][1]',                \n",
      "                              (None, 128)]                           'lstm[0][2]']                \n",
      "                                                                                                  \n",
      " Decoder_Output (Dense)      (None, 30, 5000)             645000    ['lstm_1[0][0]']              \n",
      "                                                                                                  \n",
      "==================================================================================================\n",
      "Total params: 1879696 (7.17 MB)\n",
      "Trainable params: 1879696 (7.17 MB)\n",
      "Non-trainable params: 0 (0.00 Byte)\n",
      "__________________________________________________________________________________________________\n"
     ]
    }
   ],
   "source": [
    "decoder_input_ = Input(shape=(MAX_LEN,), name='Decoder_Input')\n",
    "embedding_decoder = Embedding(vocab_size + 1, EMBEDDING_DIM)\n",
    "x = embedding_decoder(decoder_input_)\n",
    "decoder_lstm = LSTM(LATENT_DIM, return_sequences=True, return_state=True)\n",
    "decoder_output, _, _ = decoder_lstm(x, initial_state=encoder_states)\n",
    "decoder_dense = Dense(vocab_size, activation='softmax', name='Decoder_Output')\n",
    "decoder_output = decoder_dense(decoder_output)\n",
    "model_teacher_forcing = Model([encoder_input_, decoder_input_], decoder_output)\n",
    "model_teacher_forcing.compile(\n",
    "    optimizer='adam', \n",
    "    loss='sparse_categorical_crossentropy',\n",
    "    metrics=['accuracy']\n",
    ")\n",
    "model_teacher_forcing.summary()"
   ]
  },
  {
   "cell_type": "code",
   "execution_count": 24,
   "metadata": {},
   "outputs": [
    {
     "data": {
      "image/png": "[encoded data removed]",
      "text/plain": [
       "<IPython.core.display.Image object>"
      ]
     },
     "execution_count": 24,
     "metadata": {},
     "output_type": "execute_result"
    }
   ],
   "source": [
    "plot_model(model_teacher_forcing, show_shapes=True)"
   ]
  },
  {
   "cell_type": "code",
   "execution_count": 25,
   "metadata": {},
   "outputs": [
    {
     "name": "stdout",
     "output_type": "stream",
     "text": [
      "Epoch 1/200\n"
     ]
    },
    {
     "name": "stderr",
     "output_type": "stream",
     "text": [
      "2023-08-24 01:36:37.209573: I tensorflow/compiler/xla/stream_executor/cuda/cuda_dnn.cc:432] Loaded cuDNN version 8600\n",
      "2023-08-24 01:36:37.463886: I tensorflow/compiler/xla/service/service.cc:168] XLA service 0x55ecb3c9ef00 initialized for platform CUDA (this does not guarantee that XLA will be used). Devices:\n",
      "2023-08-24 01:36:37.463957: I tensorflow/compiler/xla/service/service.cc:176]   StreamExecutor device (0): GeForce RTX 2070 SUPER, Compute Capability 7.5\n",
      "2023-08-24 01:36:37.477227: I tensorflow/compiler/mlir/tensorflow/utils/dump_mlir_util.cc:255] disabling MLIR crash reproducer, set env var `MLIR_CRASH_REPRODUCER_DIRECTORY` to enable.\n",
      "2023-08-24 01:36:37.644919: I ./tensorflow/compiler/jit/device_compiler.h:186] Compiled cluster using XLA!  This line is logged at most once for the lifetime of the process.\n"
     ]
    },
    {
     "name": "stdout",
     "output_type": "stream",
     "text": [
      "148/148 [==============================] - 29s 160ms/step - loss: 2.7146 - accuracy: 0.7300 - val_loss: 1.9975 - val_accuracy: 0.7007\n",
      "Epoch 2/200\n",
      "148/148 [==============================] - 8s 56ms/step - loss: 1.5047 - accuracy: 0.7817 - val_loss: 1.7741 - val_accuracy: 0.7585\n",
      "Epoch 3/200\n",
      "148/148 [==============================] - 6s 43ms/step - loss: 1.3836 - accuracy: 0.8018 - val_loss: 1.6956 - val_accuracy: 0.7624\n",
      "Epoch 4/200\n",
      "148/148 [==============================] - 6s 39ms/step - loss: 1.3266 - accuracy: 0.8056 - val_loss: 1.6634 - val_accuracy: 0.7666\n",
      "Epoch 5/200\n",
      "148/148 [==============================] - 5s 32ms/step - loss: 1.2891 - accuracy: 0.8098 - val_loss: 1.6424 - val_accuracy: 0.7699\n",
      "Epoch 6/200\n",
      "148/148 [==============================] - 5s 33ms/step - loss: 1.2598 - accuracy: 0.8123 - val_loss: 1.6311 - val_accuracy: 0.7705\n",
      "Epoch 7/200\n",
      "148/148 [==============================] - 5s 32ms/step - loss: 1.2364 - accuracy: 0.8136 - val_loss: 1.6163 - val_accuracy: 0.7729\n",
      "Epoch 8/200\n",
      "148/148 [==============================] - 4s 26ms/step - loss: 1.2141 - accuracy: 0.8156 - val_loss: 1.6049 - val_accuracy: 0.7739\n",
      "Epoch 9/200\n",
      "148/148 [==============================] - 4s 26ms/step - loss: 1.1912 - accuracy: 0.8172 - val_loss: 1.5887 - val_accuracy: 0.7753\n",
      "Epoch 10/200\n",
      "148/148 [==============================] - 4s 30ms/step - loss: 1.1652 - accuracy: 0.8188 - val_loss: 1.5730 - val_accuracy: 0.7784\n",
      "Epoch 11/200\n",
      "148/148 [==============================] - 4s 26ms/step - loss: 1.1368 - accuracy: 0.8227 - val_loss: 1.5556 - val_accuracy: 0.7803\n",
      "Epoch 12/200\n",
      "148/148 [==============================] - 4s 30ms/step - loss: 1.1087 - accuracy: 0.8260 - val_loss: 1.5428 - val_accuracy: 0.7838\n",
      "Epoch 13/200\n",
      "148/148 [==============================] - 4s 28ms/step - loss: 1.0824 - accuracy: 0.8296 - val_loss: 1.5337 - val_accuracy: 0.7861\n",
      "Epoch 14/200\n",
      "148/148 [==============================] - 4s 24ms/step - loss: 1.0575 - accuracy: 0.8330 - val_loss: 1.5235 - val_accuracy: 0.7868\n",
      "Epoch 15/200\n",
      "148/148 [==============================] - 4s 26ms/step - loss: 1.0331 - accuracy: 0.8354 - val_loss: 1.5142 - val_accuracy: 0.7885\n",
      "Epoch 16/200\n",
      "148/148 [==============================] - 4s 28ms/step - loss: 1.0090 - accuracy: 0.8383 - val_loss: 1.5071 - val_accuracy: 0.7894\n",
      "Epoch 17/200\n",
      "148/148 [==============================] - 4s 28ms/step - loss: 0.9853 - accuracy: 0.8406 - val_loss: 1.5015 - val_accuracy: 0.7905\n",
      "Epoch 18/200\n",
      "148/148 [==============================] - 4s 28ms/step - loss: 0.9615 - accuracy: 0.8431 - val_loss: 1.4944 - val_accuracy: 0.7910\n",
      "Epoch 19/200\n",
      "148/148 [==============================] - 4s 28ms/step - loss: 0.9386 - accuracy: 0.8453 - val_loss: 1.4901 - val_accuracy: 0.7914\n",
      "Epoch 20/200\n",
      "148/148 [==============================] - 4s 24ms/step - loss: 0.9164 - accuracy: 0.8478 - val_loss: 1.4894 - val_accuracy: 0.7923\n",
      "Epoch 21/200\n",
      "148/148 [==============================] - 4s 25ms/step - loss: 0.8950 - accuracy: 0.8504 - val_loss: 1.4870 - val_accuracy: 0.7929\n",
      "Epoch 22/200\n",
      "148/148 [==============================] - 4s 26ms/step - loss: 0.8740 - accuracy: 0.8527 - val_loss: 1.4863 - val_accuracy: 0.7933\n",
      "Epoch 23/200\n",
      "148/148 [==============================] - 4s 27ms/step - loss: 0.8537 - accuracy: 0.8552 - val_loss: 1.4883 - val_accuracy: 0.7936\n",
      "Epoch 24/200\n",
      "148/148 [==============================] - 4s 26ms/step - loss: 0.8339 - accuracy: 0.8576 - val_loss: 1.4893 - val_accuracy: 0.7940\n",
      "Epoch 25/200\n",
      "148/148 [==============================] - 4s 26ms/step - loss: 0.8151 - accuracy: 0.8598 - val_loss: 1.4926 - val_accuracy: 0.7941\n",
      "Epoch 26/200\n",
      "148/148 [==============================] - 4s 25ms/step - loss: 0.7965 - accuracy: 0.8621 - val_loss: 1.4965 - val_accuracy: 0.7949\n",
      "Epoch 27/200\n",
      "148/148 [==============================] - 4s 30ms/step - loss: 0.7787 - accuracy: 0.8646 - val_loss: 1.5007 - val_accuracy: 0.7948\n",
      "Epoch 28/200\n",
      "148/148 [==============================] - 4s 24ms/step - loss: 0.7613 - accuracy: 0.8668 - val_loss: 1.5029 - val_accuracy: 0.7951\n",
      "Epoch 29/200\n",
      "148/148 [==============================] - 4s 29ms/step - loss: 0.7442 - accuracy: 0.8691 - val_loss: 1.5120 - val_accuracy: 0.7950\n",
      "Epoch 30/200\n",
      "148/148 [==============================] - 4s 25ms/step - loss: 0.7275 - accuracy: 0.8715 - val_loss: 1.5174 - val_accuracy: 0.7952\n",
      "Epoch 31/200\n",
      "148/148 [==============================] - 4s 25ms/step - loss: 0.7112 - accuracy: 0.8737 - val_loss: 1.5248 - val_accuracy: 0.7950\n",
      "Epoch 32/200\n",
      "148/148 [==============================] - 4s 27ms/step - loss: 0.6956 - accuracy: 0.8762 - val_loss: 1.5298 - val_accuracy: 0.7954\n",
      "Epoch 33/200\n",
      "148/148 [==============================] - 4s 28ms/step - loss: 0.6802 - accuracy: 0.8784 - val_loss: 1.5374 - val_accuracy: 0.7953\n",
      "Epoch 34/200\n",
      "148/148 [==============================] - 4s 26ms/step - loss: 0.6652 - accuracy: 0.8805 - val_loss: 1.5457 - val_accuracy: 0.7954\n",
      "Epoch 35/200\n",
      "148/148 [==============================] - 4s 25ms/step - loss: 0.6508 - accuracy: 0.8828 - val_loss: 1.5531 - val_accuracy: 0.7956\n",
      "Epoch 36/200\n",
      "148/148 [==============================] - 4s 24ms/step - loss: 0.6364 - accuracy: 0.8848 - val_loss: 1.5630 - val_accuracy: 0.7951\n",
      "Epoch 37/200\n",
      "148/148 [==============================] - 4s 26ms/step - loss: 0.6227 - accuracy: 0.8870 - val_loss: 1.5707 - val_accuracy: 0.7955\n",
      "Epoch 38/200\n",
      "148/148 [==============================] - 4s 24ms/step - loss: 0.6090 - accuracy: 0.8890 - val_loss: 1.5814 - val_accuracy: 0.7953\n",
      "Epoch 39/200\n",
      "148/148 [==============================] - 4s 28ms/step - loss: 0.5959 - accuracy: 0.8911 - val_loss: 1.5932 - val_accuracy: 0.7954\n",
      "Epoch 40/200\n",
      "148/148 [==============================] - 4s 26ms/step - loss: 0.5830 - accuracy: 0.8938 - val_loss: 1.5989 - val_accuracy: 0.7950\n",
      "Epoch 41/200\n",
      "148/148 [==============================] - 4s 27ms/step - loss: 0.5704 - accuracy: 0.8957 - val_loss: 1.6096 - val_accuracy: 0.7953\n",
      "Epoch 42/200\n",
      "148/148 [==============================] - 4s 27ms/step - loss: 0.5580 - accuracy: 0.8977 - val_loss: 1.6187 - val_accuracy: 0.7953\n",
      "Epoch 43/200\n",
      "148/148 [==============================] - 4s 27ms/step - loss: 0.5460 - accuracy: 0.9000 - val_loss: 1.6316 - val_accuracy: 0.7952\n",
      "Epoch 44/200\n",
      "148/148 [==============================] - 4s 27ms/step - loss: 0.5344 - accuracy: 0.9020 - val_loss: 1.6389 - val_accuracy: 0.7954\n",
      "Epoch 45/200\n",
      "148/148 [==============================] - 4s 26ms/step - loss: 0.5228 - accuracy: 0.9042 - val_loss: 1.6552 - val_accuracy: 0.7952\n",
      "Epoch 46/200\n",
      "148/148 [==============================] - 4s 26ms/step - loss: 0.5113 - accuracy: 0.9059 - val_loss: 1.6632 - val_accuracy: 0.7949\n",
      "Epoch 47/200\n",
      "148/148 [==============================] - 4s 27ms/step - loss: 0.5002 - accuracy: 0.9081 - val_loss: 1.6729 - val_accuracy: 0.7951\n",
      "Epoch 48/200\n",
      "148/148 [==============================] - 4s 28ms/step - loss: 0.4891 - accuracy: 0.9103 - val_loss: 1.6871 - val_accuracy: 0.7949\n",
      "Epoch 49/200\n",
      "148/148 [==============================] - 4s 26ms/step - loss: 0.4786 - accuracy: 0.9119 - val_loss: 1.6991 - val_accuracy: 0.7943\n",
      "Epoch 50/200\n",
      "148/148 [==============================] - 4s 26ms/step - loss: 0.4680 - accuracy: 0.9138 - val_loss: 1.7082 - val_accuracy: 0.7943\n",
      "Epoch 51/200\n",
      "148/148 [==============================] - 4s 26ms/step - loss: 0.4573 - accuracy: 0.9155 - val_loss: 1.7222 - val_accuracy: 0.7942\n",
      "Epoch 52/200\n",
      "148/148 [==============================] - 4s 26ms/step - loss: 0.4471 - accuracy: 0.9175 - val_loss: 1.7341 - val_accuracy: 0.7941\n",
      "Epoch 53/200\n",
      "148/148 [==============================] - 4s 24ms/step - loss: 0.4375 - accuracy: 0.9192 - val_loss: 1.7472 - val_accuracy: 0.7941\n",
      "Epoch 54/200\n",
      "148/148 [==============================] - 4s 26ms/step - loss: 0.4278 - accuracy: 0.9208 - val_loss: 1.7621 - val_accuracy: 0.7941\n",
      "Epoch 55/200\n",
      "148/148 [==============================] - 4s 24ms/step - loss: 0.4182 - accuracy: 0.9227 - val_loss: 1.7750 - val_accuracy: 0.7940\n",
      "Epoch 56/200\n",
      "148/148 [==============================] - 4s 26ms/step - loss: 0.4090 - accuracy: 0.9241 - val_loss: 1.7845 - val_accuracy: 0.7936\n",
      "Epoch 57/200\n",
      "148/148 [==============================] - 4s 24ms/step - loss: 0.3996 - accuracy: 0.9258 - val_loss: 1.8066 - val_accuracy: 0.7935\n",
      "Epoch 58/200\n",
      "148/148 [==============================] - 4s 26ms/step - loss: 0.3909 - accuracy: 0.9273 - val_loss: 1.8132 - val_accuracy: 0.7939\n",
      "Epoch 59/200\n",
      "148/148 [==============================] - 4s 26ms/step - loss: 0.3822 - accuracy: 0.9290 - val_loss: 1.8292 - val_accuracy: 0.7938\n",
      "Epoch 60/200\n",
      "148/148 [==============================] - 4s 24ms/step - loss: 0.3737 - accuracy: 0.9305 - val_loss: 1.8403 - val_accuracy: 0.7939\n",
      "Epoch 61/200\n",
      "148/148 [==============================] - 4s 24ms/step - loss: 0.3655 - accuracy: 0.9316 - val_loss: 1.8548 - val_accuracy: 0.7938\n",
      "Epoch 62/200\n",
      "148/148 [==============================] - 4s 26ms/step - loss: 0.3572 - accuracy: 0.9333 - val_loss: 1.8662 - val_accuracy: 0.7932\n",
      "Epoch 63/200\n",
      "148/148 [==============================] - 4s 26ms/step - loss: 0.3488 - accuracy: 0.9348 - val_loss: 1.8827 - val_accuracy: 0.7931\n",
      "Epoch 64/200\n",
      "148/148 [==============================] - 4s 24ms/step - loss: 0.3409 - accuracy: 0.9363 - val_loss: 1.8983 - val_accuracy: 0.7931\n",
      "Epoch 65/200\n",
      "148/148 [==============================] - 4s 24ms/step - loss: 0.3333 - accuracy: 0.9377 - val_loss: 1.9120 - val_accuracy: 0.7933\n",
      "Epoch 66/200\n",
      "148/148 [==============================] - 4s 26ms/step - loss: 0.3257 - accuracy: 0.9391 - val_loss: 1.9242 - val_accuracy: 0.7927\n",
      "Epoch 67/200\n",
      "148/148 [==============================] - 4s 26ms/step - loss: 0.3186 - accuracy: 0.9403 - val_loss: 1.9381 - val_accuracy: 0.7929\n",
      "Epoch 68/200\n",
      "148/148 [==============================] - 4s 26ms/step - loss: 0.3113 - accuracy: 0.9415 - val_loss: 1.9545 - val_accuracy: 0.7924\n",
      "Epoch 69/200\n",
      "148/148 [==============================] - 4s 26ms/step - loss: 0.3041 - accuracy: 0.9429 - val_loss: 1.9706 - val_accuracy: 0.7924\n",
      "Epoch 70/200\n",
      "148/148 [==============================] - 4s 25ms/step - loss: 0.2973 - accuracy: 0.9442 - val_loss: 1.9852 - val_accuracy: 0.7926\n",
      "Epoch 71/200\n",
      "148/148 [==============================] - 4s 26ms/step - loss: 0.2903 - accuracy: 0.9457 - val_loss: 2.0016 - val_accuracy: 0.7922\n",
      "Epoch 72/200\n",
      "148/148 [==============================] - 4s 25ms/step - loss: 0.2836 - accuracy: 0.9467 - val_loss: 2.0143 - val_accuracy: 0.7924\n",
      "Epoch 73/200\n",
      "148/148 [==============================] - 4s 24ms/step - loss: 0.2771 - accuracy: 0.9481 - val_loss: 2.0309 - val_accuracy: 0.7921\n",
      "Epoch 74/200\n",
      "148/148 [==============================] - 4s 24ms/step - loss: 0.2708 - accuracy: 0.9493 - val_loss: 2.0408 - val_accuracy: 0.7921\n",
      "Epoch 75/200\n",
      "148/148 [==============================] - 4s 24ms/step - loss: 0.2646 - accuracy: 0.9504 - val_loss: 2.0588 - val_accuracy: 0.7920\n",
      "Epoch 76/200\n",
      "148/148 [==============================] - 4s 24ms/step - loss: 0.2584 - accuracy: 0.9515 - val_loss: 2.0755 - val_accuracy: 0.7922\n",
      "Epoch 77/200\n",
      "148/148 [==============================] - 4s 25ms/step - loss: 0.2526 - accuracy: 0.9527 - val_loss: 2.0889 - val_accuracy: 0.7926\n",
      "Epoch 78/200\n",
      "148/148 [==============================] - 4s 26ms/step - loss: 0.2468 - accuracy: 0.9537 - val_loss: 2.1043 - val_accuracy: 0.7926\n",
      "Epoch 79/200\n",
      "148/148 [==============================] - 4s 27ms/step - loss: 0.2412 - accuracy: 0.9546 - val_loss: 2.1173 - val_accuracy: 0.7913\n",
      "Epoch 80/200\n",
      "148/148 [==============================] - 4s 25ms/step - loss: 0.2357 - accuracy: 0.9559 - val_loss: 2.1353 - val_accuracy: 0.7918\n",
      "Epoch 81/200\n",
      "148/148 [==============================] - 4s 25ms/step - loss: 0.2301 - accuracy: 0.9571 - val_loss: 2.1475 - val_accuracy: 0.7918\n",
      "Epoch 82/200\n",
      "148/148 [==============================] - 4s 27ms/step - loss: 0.2247 - accuracy: 0.9580 - val_loss: 2.1662 - val_accuracy: 0.7918\n",
      "Epoch 83/200\n",
      "148/148 [==============================] - 4s 25ms/step - loss: 0.2193 - accuracy: 0.9589 - val_loss: 2.1763 - val_accuracy: 0.7918\n",
      "Epoch 84/200\n",
      "148/148 [==============================] - 4s 24ms/step - loss: 0.2143 - accuracy: 0.9601 - val_loss: 2.1913 - val_accuracy: 0.7918\n",
      "Epoch 85/200\n",
      "148/148 [==============================] - 4s 24ms/step - loss: 0.2097 - accuracy: 0.9608 - val_loss: 2.2070 - val_accuracy: 0.7920\n",
      "Epoch 86/200\n",
      "148/148 [==============================] - 4s 24ms/step - loss: 0.2048 - accuracy: 0.9617 - val_loss: 2.2159 - val_accuracy: 0.7918\n",
      "Epoch 87/200\n",
      "148/148 [==============================] - 4s 25ms/step - loss: 0.2000 - accuracy: 0.9628 - val_loss: 2.2376 - val_accuracy: 0.7916\n",
      "Epoch 88/200\n",
      "148/148 [==============================] - 4s 26ms/step - loss: 0.1951 - accuracy: 0.9638 - val_loss: 2.2466 - val_accuracy: 0.7916\n",
      "Epoch 89/200\n",
      "148/148 [==============================] - 4s 25ms/step - loss: 0.1907 - accuracy: 0.9647 - val_loss: 2.2640 - val_accuracy: 0.7915\n",
      "Epoch 90/200\n",
      "148/148 [==============================] - 4s 24ms/step - loss: 0.1862 - accuracy: 0.9655 - val_loss: 2.2764 - val_accuracy: 0.7917\n",
      "Epoch 91/200\n",
      "148/148 [==============================] - 4s 26ms/step - loss: 0.1816 - accuracy: 0.9666 - val_loss: 2.2948 - val_accuracy: 0.7913\n",
      "Epoch 92/200\n",
      "148/148 [==============================] - 4s 24ms/step - loss: 0.1775 - accuracy: 0.9673 - val_loss: 2.3050 - val_accuracy: 0.7915\n",
      "Epoch 93/200\n",
      "148/148 [==============================] - 4s 25ms/step - loss: 0.1731 - accuracy: 0.9684 - val_loss: 2.3198 - val_accuracy: 0.7916\n",
      "Epoch 94/200\n",
      "148/148 [==============================] - 4s 25ms/step - loss: 0.1692 - accuracy: 0.9689 - val_loss: 2.3358 - val_accuracy: 0.7909\n",
      "Epoch 95/200\n",
      "148/148 [==============================] - 4s 25ms/step - loss: 0.1652 - accuracy: 0.9695 - val_loss: 2.3505 - val_accuracy: 0.7914\n",
      "Epoch 96/200\n",
      "148/148 [==============================] - 4s 26ms/step - loss: 0.1611 - accuracy: 0.9707 - val_loss: 2.3640 - val_accuracy: 0.7911\n",
      "Epoch 97/200\n",
      "148/148 [==============================] - 4s 27ms/step - loss: 0.1569 - accuracy: 0.9714 - val_loss: 2.3797 - val_accuracy: 0.7915\n",
      "Epoch 98/200\n",
      "148/148 [==============================] - 4s 26ms/step - loss: 0.1533 - accuracy: 0.9722 - val_loss: 2.3906 - val_accuracy: 0.7909\n",
      "Epoch 99/200\n",
      "148/148 [==============================] - 4s 27ms/step - loss: 0.1497 - accuracy: 0.9729 - val_loss: 2.4043 - val_accuracy: 0.7913\n",
      "Epoch 100/200\n",
      "148/148 [==============================] - 4s 28ms/step - loss: 0.1460 - accuracy: 0.9739 - val_loss: 2.4217 - val_accuracy: 0.7907\n",
      "Epoch 101/200\n",
      "148/148 [==============================] - 4s 24ms/step - loss: 0.1426 - accuracy: 0.9741 - val_loss: 2.4339 - val_accuracy: 0.7913\n",
      "Epoch 102/200\n",
      "148/148 [==============================] - 4s 24ms/step - loss: 0.1393 - accuracy: 0.9749 - val_loss: 2.4497 - val_accuracy: 0.7908\n",
      "Epoch 103/200\n",
      "148/148 [==============================] - 4s 28ms/step - loss: 0.1355 - accuracy: 0.9758 - val_loss: 2.4588 - val_accuracy: 0.7910\n",
      "Epoch 104/200\n",
      "148/148 [==============================] - 4s 25ms/step - loss: 0.1322 - accuracy: 0.9763 - val_loss: 2.4756 - val_accuracy: 0.7909\n",
      "Epoch 105/200\n",
      "148/148 [==============================] - 4s 25ms/step - loss: 0.1289 - accuracy: 0.9769 - val_loss: 2.4881 - val_accuracy: 0.7913\n",
      "Epoch 106/200\n",
      "148/148 [==============================] - 4s 24ms/step - loss: 0.1253 - accuracy: 0.9776 - val_loss: 2.5046 - val_accuracy: 0.7907\n",
      "Epoch 107/200\n",
      "148/148 [==============================] - 4s 25ms/step - loss: 0.1220 - accuracy: 0.9785 - val_loss: 2.5157 - val_accuracy: 0.7907\n",
      "Epoch 108/200\n",
      "148/148 [==============================] - 4s 24ms/step - loss: 0.1192 - accuracy: 0.9790 - val_loss: 2.5303 - val_accuracy: 0.7904\n",
      "Epoch 109/200\n",
      "148/148 [==============================] - 4s 25ms/step - loss: 0.1162 - accuracy: 0.9796 - val_loss: 2.5407 - val_accuracy: 0.7907\n",
      "Epoch 110/200\n",
      "148/148 [==============================] - 4s 26ms/step - loss: 0.1127 - accuracy: 0.9806 - val_loss: 2.5539 - val_accuracy: 0.7905\n",
      "Epoch 111/200\n",
      "148/148 [==============================] - 4s 26ms/step - loss: 0.1098 - accuracy: 0.9810 - val_loss: 2.5708 - val_accuracy: 0.7904\n",
      "Epoch 112/200\n",
      "148/148 [==============================] - 4s 25ms/step - loss: 0.1073 - accuracy: 0.9815 - val_loss: 2.5837 - val_accuracy: 0.7900\n",
      "Epoch 113/200\n",
      "148/148 [==============================] - 4s 24ms/step - loss: 0.1045 - accuracy: 0.9820 - val_loss: 2.5951 - val_accuracy: 0.7910\n",
      "Epoch 114/200\n",
      "148/148 [==============================] - 4s 24ms/step - loss: 0.1014 - accuracy: 0.9828 - val_loss: 2.6103 - val_accuracy: 0.7905\n",
      "Epoch 115/200\n",
      "148/148 [==============================] - 4s 25ms/step - loss: 0.0994 - accuracy: 0.9831 - val_loss: 2.6237 - val_accuracy: 0.7902\n",
      "Epoch 116/200\n",
      "148/148 [==============================] - 4s 25ms/step - loss: 0.0966 - accuracy: 0.9835 - val_loss: 2.6360 - val_accuracy: 0.7905\n",
      "Epoch 117/200\n",
      "148/148 [==============================] - 4s 26ms/step - loss: 0.0944 - accuracy: 0.9840 - val_loss: 2.6505 - val_accuracy: 0.7903\n",
      "Epoch 118/200\n",
      "148/148 [==============================] - 4s 26ms/step - loss: 0.0916 - accuracy: 0.9846 - val_loss: 2.6655 - val_accuracy: 0.7903\n",
      "Epoch 119/200\n",
      "148/148 [==============================] - 4s 25ms/step - loss: 0.0887 - accuracy: 0.9851 - val_loss: 2.6749 - val_accuracy: 0.7905\n",
      "Epoch 120/200\n",
      "148/148 [==============================] - 4s 25ms/step - loss: 0.0861 - accuracy: 0.9858 - val_loss: 2.6908 - val_accuracy: 0.7904\n",
      "Epoch 121/200\n",
      "148/148 [==============================] - 4s 26ms/step - loss: 0.0836 - accuracy: 0.9862 - val_loss: 2.6947 - val_accuracy: 0.7905\n",
      "Epoch 122/200\n",
      "148/148 [==============================] - 4s 26ms/step - loss: 0.0816 - accuracy: 0.9868 - val_loss: 2.7123 - val_accuracy: 0.7902\n",
      "Epoch 123/200\n",
      "148/148 [==============================] - 4s 24ms/step - loss: 0.0794 - accuracy: 0.9872 - val_loss: 2.7265 - val_accuracy: 0.7908\n",
      "Epoch 124/200\n",
      "148/148 [==============================] - 4s 24ms/step - loss: 0.0773 - accuracy: 0.9874 - val_loss: 2.7411 - val_accuracy: 0.7898\n",
      "Epoch 125/200\n",
      "148/148 [==============================] - 4s 24ms/step - loss: 0.0753 - accuracy: 0.9880 - val_loss: 2.7522 - val_accuracy: 0.7906\n",
      "Epoch 126/200\n",
      "148/148 [==============================] - 4s 24ms/step - loss: 0.0730 - accuracy: 0.9885 - val_loss: 2.7602 - val_accuracy: 0.7904\n",
      "Epoch 127/200\n",
      "148/148 [==============================] - 4s 25ms/step - loss: 0.0712 - accuracy: 0.9888 - val_loss: 2.7770 - val_accuracy: 0.7905\n",
      "Epoch 128/200\n",
      "148/148 [==============================] - 4s 24ms/step - loss: 0.0693 - accuracy: 0.9891 - val_loss: 2.7838 - val_accuracy: 0.7905\n",
      "Epoch 129/200\n",
      "148/148 [==============================] - 4s 25ms/step - loss: 0.0671 - accuracy: 0.9896 - val_loss: 2.8021 - val_accuracy: 0.7907\n",
      "Epoch 130/200\n",
      "148/148 [==============================] - 4s 25ms/step - loss: 0.0653 - accuracy: 0.9899 - val_loss: 2.8159 - val_accuracy: 0.7904\n",
      "Epoch 131/200\n",
      "148/148 [==============================] - 4s 24ms/step - loss: 0.0634 - accuracy: 0.9902 - val_loss: 2.8244 - val_accuracy: 0.7901\n",
      "Epoch 132/200\n",
      "148/148 [==============================] - 4s 25ms/step - loss: 0.0618 - accuracy: 0.9906 - val_loss: 2.8406 - val_accuracy: 0.7901\n",
      "Epoch 133/200\n",
      "148/148 [==============================] - 4s 26ms/step - loss: 0.0597 - accuracy: 0.9909 - val_loss: 2.8504 - val_accuracy: 0.7906\n",
      "Epoch 134/200\n",
      "148/148 [==============================] - 4s 25ms/step - loss: 0.0576 - accuracy: 0.9914 - val_loss: 2.8595 - val_accuracy: 0.7902\n",
      "Epoch 135/200\n",
      "148/148 [==============================] - 4s 26ms/step - loss: 0.0557 - accuracy: 0.9917 - val_loss: 2.8740 - val_accuracy: 0.7902\n",
      "Epoch 136/200\n",
      "148/148 [==============================] - 4s 26ms/step - loss: 0.0540 - accuracy: 0.9919 - val_loss: 2.8843 - val_accuracy: 0.7905\n",
      "Epoch 137/200\n",
      "148/148 [==============================] - 4s 25ms/step - loss: 0.0527 - accuracy: 0.9923 - val_loss: 2.8986 - val_accuracy: 0.7899\n",
      "Epoch 138/200\n",
      "148/148 [==============================] - 4s 26ms/step - loss: 0.0512 - accuracy: 0.9929 - val_loss: 2.9017 - val_accuracy: 0.7900\n",
      "Epoch 139/200\n",
      "148/148 [==============================] - 4s 24ms/step - loss: 0.0504 - accuracy: 0.9928 - val_loss: 2.9197 - val_accuracy: 0.7899\n",
      "Epoch 140/200\n",
      "148/148 [==============================] - 4s 26ms/step - loss: 0.0489 - accuracy: 0.9931 - val_loss: 2.9278 - val_accuracy: 0.7903\n",
      "Epoch 141/200\n",
      "148/148 [==============================] - 4s 25ms/step - loss: 0.0474 - accuracy: 0.9935 - val_loss: 2.9434 - val_accuracy: 0.7903\n",
      "Epoch 142/200\n",
      "148/148 [==============================] - 4s 25ms/step - loss: 0.0459 - accuracy: 0.9935 - val_loss: 2.9482 - val_accuracy: 0.7898\n",
      "Epoch 143/200\n",
      "148/148 [==============================] - 4s 26ms/step - loss: 0.0441 - accuracy: 0.9940 - val_loss: 2.9650 - val_accuracy: 0.7899\n",
      "Epoch 144/200\n",
      "148/148 [==============================] - 4s 28ms/step - loss: 0.0425 - accuracy: 0.9941 - val_loss: 2.9703 - val_accuracy: 0.7905\n",
      "Epoch 145/200\n",
      "148/148 [==============================] - 4s 27ms/step - loss: 0.0417 - accuracy: 0.9943 - val_loss: 2.9824 - val_accuracy: 0.7903\n",
      "Epoch 146/200\n",
      "148/148 [==============================] - 4s 25ms/step - loss: 0.0404 - accuracy: 0.9945 - val_loss: 2.9966 - val_accuracy: 0.7898\n",
      "Epoch 147/200\n",
      "148/148 [==============================] - 4s 24ms/step - loss: 0.0388 - accuracy: 0.9949 - val_loss: 3.0037 - val_accuracy: 0.7899\n",
      "Epoch 148/200\n",
      "148/148 [==============================] - 4s 26ms/step - loss: 0.0375 - accuracy: 0.9950 - val_loss: 3.0198 - val_accuracy: 0.7901\n",
      "Epoch 149/200\n",
      "148/148 [==============================] - 4s 24ms/step - loss: 0.0363 - accuracy: 0.9954 - val_loss: 3.0358 - val_accuracy: 0.7899\n",
      "Epoch 150/200\n",
      "148/148 [==============================] - 4s 24ms/step - loss: 0.0353 - accuracy: 0.9954 - val_loss: 3.0410 - val_accuracy: 0.7899\n",
      "Epoch 151/200\n",
      "148/148 [==============================] - 4s 24ms/step - loss: 0.0341 - accuracy: 0.9957 - val_loss: 3.0477 - val_accuracy: 0.7903\n",
      "Epoch 152/200\n",
      "148/148 [==============================] - 4s 25ms/step - loss: 0.0334 - accuracy: 0.9958 - val_loss: 3.0545 - val_accuracy: 0.7901\n",
      "Epoch 153/200\n",
      "148/148 [==============================] - 4s 25ms/step - loss: 0.0326 - accuracy: 0.9960 - val_loss: 3.0709 - val_accuracy: 0.7899\n",
      "Epoch 154/200\n",
      "148/148 [==============================] - 4s 25ms/step - loss: 0.0317 - accuracy: 0.9961 - val_loss: 3.0844 - val_accuracy: 0.7892\n",
      "Epoch 155/200\n",
      "148/148 [==============================] - 4s 25ms/step - loss: 0.0312 - accuracy: 0.9963 - val_loss: 3.0974 - val_accuracy: 0.7892\n",
      "Epoch 156/200\n",
      "148/148 [==============================] - 4s 25ms/step - loss: 0.0302 - accuracy: 0.9963 - val_loss: 3.1038 - val_accuracy: 0.7904\n",
      "Epoch 157/200\n",
      "148/148 [==============================] - 4s 25ms/step - loss: 0.0289 - accuracy: 0.9965 - val_loss: 3.1160 - val_accuracy: 0.7897\n",
      "Epoch 158/200\n",
      "148/148 [==============================] - 4s 26ms/step - loss: 0.0279 - accuracy: 0.9968 - val_loss: 3.1168 - val_accuracy: 0.7901\n",
      "Epoch 159/200\n",
      "148/148 [==============================] - 4s 25ms/step - loss: 0.0268 - accuracy: 0.9970 - val_loss: 3.1331 - val_accuracy: 0.7896\n",
      "Epoch 160/200\n",
      "148/148 [==============================] - 4s 24ms/step - loss: 0.0261 - accuracy: 0.9970 - val_loss: 3.1314 - val_accuracy: 0.7903\n",
      "Epoch 161/200\n",
      "148/148 [==============================] - 4s 25ms/step - loss: 0.0251 - accuracy: 0.9973 - val_loss: 3.1525 - val_accuracy: 0.7898\n",
      "Epoch 162/200\n",
      "148/148 [==============================] - 4s 25ms/step - loss: 0.0238 - accuracy: 0.9974 - val_loss: 3.1604 - val_accuracy: 0.7898\n",
      "Epoch 163/200\n",
      "148/148 [==============================] - 4s 24ms/step - loss: 0.0230 - accuracy: 0.9976 - val_loss: 3.1705 - val_accuracy: 0.7901\n",
      "Epoch 164/200\n",
      "148/148 [==============================] - 4s 25ms/step - loss: 0.0225 - accuracy: 0.9976 - val_loss: 3.1818 - val_accuracy: 0.7898\n",
      "Epoch 165/200\n",
      "148/148 [==============================] - 4s 25ms/step - loss: 0.0223 - accuracy: 0.9977 - val_loss: 3.1941 - val_accuracy: 0.7892\n",
      "Epoch 166/200\n",
      "148/148 [==============================] - 4s 24ms/step - loss: 0.0217 - accuracy: 0.9978 - val_loss: 3.1935 - val_accuracy: 0.7899\n",
      "Epoch 167/200\n",
      "148/148 [==============================] - 4s 26ms/step - loss: 0.0208 - accuracy: 0.9979 - val_loss: 3.2014 - val_accuracy: 0.7896\n",
      "Epoch 168/200\n",
      "148/148 [==============================] - 4s 25ms/step - loss: 0.0197 - accuracy: 0.9980 - val_loss: 3.2168 - val_accuracy: 0.7897\n",
      "Epoch 169/200\n",
      "148/148 [==============================] - 4s 24ms/step - loss: 0.0187 - accuracy: 0.9982 - val_loss: 3.2275 - val_accuracy: 0.7897\n",
      "Epoch 170/200\n",
      "148/148 [==============================] - 4s 24ms/step - loss: 0.0183 - accuracy: 0.9982 - val_loss: 3.2348 - val_accuracy: 0.7900\n",
      "Epoch 171/200\n",
      "148/148 [==============================] - 4s 24ms/step - loss: 0.0178 - accuracy: 0.9983 - val_loss: 3.2400 - val_accuracy: 0.7900\n",
      "Epoch 172/200\n",
      "148/148 [==============================] - 4s 25ms/step - loss: 0.0175 - accuracy: 0.9983 - val_loss: 3.2623 - val_accuracy: 0.7897\n",
      "Epoch 173/200\n",
      "148/148 [==============================] - 4s 26ms/step - loss: 0.0174 - accuracy: 0.9983 - val_loss: 3.2602 - val_accuracy: 0.7893\n",
      "Epoch 174/200\n",
      "148/148 [==============================] - 4s 24ms/step - loss: 0.0186 - accuracy: 0.9981 - val_loss: 3.2710 - val_accuracy: 0.7897\n",
      "Epoch 175/200\n",
      "148/148 [==============================] - 4s 25ms/step - loss: 0.0191 - accuracy: 0.9980 - val_loss: 3.2852 - val_accuracy: 0.7898\n",
      "Epoch 176/200\n",
      "148/148 [==============================] - 4s 26ms/step - loss: 0.0183 - accuracy: 0.9981 - val_loss: 3.2890 - val_accuracy: 0.7894\n",
      "Epoch 177/200\n",
      "148/148 [==============================] - 4s 25ms/step - loss: 0.0162 - accuracy: 0.9985 - val_loss: 3.2908 - val_accuracy: 0.7899\n",
      "Epoch 178/200\n",
      "148/148 [==============================] - 4s 25ms/step - loss: 0.0149 - accuracy: 0.9986 - val_loss: 3.3029 - val_accuracy: 0.7898\n",
      "Epoch 179/200\n",
      "148/148 [==============================] - 4s 25ms/step - loss: 0.0135 - accuracy: 0.9988 - val_loss: 3.3160 - val_accuracy: 0.7899\n",
      "Epoch 180/200\n",
      "148/148 [==============================] - 4s 25ms/step - loss: 0.0126 - accuracy: 0.9989 - val_loss: 3.3225 - val_accuracy: 0.7897\n",
      "Epoch 181/200\n",
      "148/148 [==============================] - 4s 27ms/step - loss: 0.0118 - accuracy: 0.9990 - val_loss: 3.3308 - val_accuracy: 0.7895\n",
      "Epoch 182/200\n",
      "148/148 [==============================] - 4s 27ms/step - loss: 0.0113 - accuracy: 0.9990 - val_loss: 3.3423 - val_accuracy: 0.7894\n",
      "Epoch 183/200\n",
      "148/148 [==============================] - 4s 25ms/step - loss: 0.0109 - accuracy: 0.9991 - val_loss: 3.3500 - val_accuracy: 0.7895\n",
      "Epoch 184/200\n",
      "148/148 [==============================] - 4s 25ms/step - loss: 0.0106 - accuracy: 0.9991 - val_loss: 3.3584 - val_accuracy: 0.7894\n",
      "Epoch 185/200\n",
      "148/148 [==============================] - 4s 27ms/step - loss: 0.0106 - accuracy: 0.9991 - val_loss: 3.3670 - val_accuracy: 0.7897\n",
      "Epoch 186/200\n",
      "148/148 [==============================] - 4s 26ms/step - loss: 0.0109 - accuracy: 0.9991 - val_loss: 3.3731 - val_accuracy: 0.7894\n",
      "Epoch 187/200\n",
      "148/148 [==============================] - 4s 25ms/step - loss: 0.0122 - accuracy: 0.9989 - val_loss: 3.3899 - val_accuracy: 0.7889\n",
      "Epoch 188/200\n",
      "148/148 [==============================] - 4s 25ms/step - loss: 0.0134 - accuracy: 0.9986 - val_loss: 3.3890 - val_accuracy: 0.7897\n",
      "Epoch 189/200\n",
      "148/148 [==============================] - 4s 24ms/step - loss: 0.0151 - accuracy: 0.9984 - val_loss: 3.3869 - val_accuracy: 0.7892\n",
      "Epoch 190/200\n",
      "148/148 [==============================] - 4s 24ms/step - loss: 0.0160 - accuracy: 0.9981 - val_loss: 3.3968 - val_accuracy: 0.7894\n",
      "Epoch 191/200\n",
      "148/148 [==============================] - 4s 24ms/step - loss: 0.0149 - accuracy: 0.9983 - val_loss: 3.4015 - val_accuracy: 0.7898\n",
      "Epoch 192/200\n",
      "148/148 [==============================] - 4s 26ms/step - loss: 0.0121 - accuracy: 0.9988 - val_loss: 3.4188 - val_accuracy: 0.7901\n",
      "Epoch 193/200\n",
      "148/148 [==============================] - 4s 25ms/step - loss: 0.0096 - accuracy: 0.9992 - val_loss: 3.4250 - val_accuracy: 0.7899\n",
      "Epoch 194/200\n",
      "148/148 [==============================] - 4s 26ms/step - loss: 0.0081 - accuracy: 0.9994 - val_loss: 3.4321 - val_accuracy: 0.7900\n",
      "Epoch 195/200\n",
      "148/148 [==============================] - 4s 25ms/step - loss: 0.0073 - accuracy: 0.9994 - val_loss: 3.4391 - val_accuracy: 0.7899\n",
      "Epoch 196/200\n",
      "148/148 [==============================] - 4s 26ms/step - loss: 0.0068 - accuracy: 0.9995 - val_loss: 3.4470 - val_accuracy: 0.7900\n",
      "Epoch 197/200\n",
      "148/148 [==============================] - 4s 26ms/step - loss: 0.0065 - accuracy: 0.9995 - val_loss: 3.4576 - val_accuracy: 0.7900\n",
      "Epoch 198/200\n",
      "148/148 [==============================] - 4s 24ms/step - loss: 0.0063 - accuracy: 0.9995 - val_loss: 3.4619 - val_accuracy: 0.7898\n",
      "Epoch 199/200\n",
      "148/148 [==============================] - 4s 25ms/step - loss: 0.0061 - accuracy: 0.9995 - val_loss: 3.4685 - val_accuracy: 0.7899\n",
      "Epoch 200/200\n",
      "148/148 [==============================] - 4s 25ms/step - loss: 0.0060 - accuracy: 0.9995 - val_loss: 3.4758 - val_accuracy: 0.7896\n"
     ]
    }
   ],
   "source": [
    "EPOCHS = 200\n",
    "BATCH_SIZE = 64\n",
    "history = model_teacher_forcing.fit(\n",
    "    [encoder_input, decoder_input],\n",
    "    decoder_target,\n",
    "    batch_size=BATCH_SIZE,\n",
    "    epochs=EPOCHS,\n",
    "    validation_split=0.2\n",
    ")"
   ]
  },
  {
   "cell_type": "code",
   "execution_count": 26,
   "metadata": {},
   "outputs": [
    {
     "data": {
      "image/png": "[encoded data removed]",
      "text/plain": [
       "<Figure size 1200x400 with 2 Axes>"
      ]
     },
     "metadata": {},
     "output_type": "display_data"
    }
   ],
   "source": [
    "plt.figure(figsize=(12, 4))\n",
    "for i, item in enumerate(['loss', 'accuracy']):\n",
    "    plt.subplot(1, 2, i+1)\n",
    "    plt.plot(history.history[item], label=item)\n",
    "    plt.plot(history.history[f'val_{item}'], label=f'val_{item}')\n",
    "    plt.legend()\n",
    "plt.show()"
   ]
  },
  {
   "cell_type": "code",
   "execution_count": 27,
   "metadata": {},
   "outputs": [
    {
     "name": "stderr",
     "output_type": "stream",
     "text": [
      "/workspace/nlp/.venv/lib/python3.8/site-packages/keras/src/engine/training.py:3000: UserWarning: You are saving your model as an HDF5 file via `model.save()`. This file format is considered legacy. We recommend using instead the native Keras format, e.g. `model.save('my_model.keras')`.\n",
      "  saving_api.save_model(\n"
     ]
    }
   ],
   "source": [
    "model_teacher_forcing.save('data/s2s.h5')"
   ]
  },
  {
   "cell_type": "code",
   "execution_count": 28,
   "metadata": {},
   "outputs": [
    {
     "name": "stdout",
     "output_type": "stream",
     "text": [
      "Model: \"model_2\"\n",
      "__________________________________________________________________________________________________\n",
      " Layer (type)                Output Shape                 Param #   Connected to                  \n",
      "==================================================================================================\n",
      " Decoder_input (InputLayer)  [(None, 1)]                  0         []                            \n",
      "                                                                                                  \n",
      " embedding_1 (Embedding)     multiple                     500100    ['Decoder_input[0][0]']       \n",
      "                                                                                                  \n",
      " Decoder_hidden (InputLayer  [(None, 128)]                0         []                            \n",
      " )                                                                                                \n",
      "                                                                                                  \n",
      " Decoder_cell (InputLayer)   [(None, 128)]                0         []                            \n",
      "                                                                                                  \n",
      " lstm_1 (LSTM)               multiple                     117248    ['embedding_1[1][0]',         \n",
      "                                                                     'Decoder_hidden[0][0]',      \n",
      "                                                                     'Decoder_cell[0][0]']        \n",
      "                                                                                                  \n",
      " Decoder_Output (Dense)      multiple                     645000    ['lstm_1[1][0]']              \n",
      "                                                                                                  \n",
      "==================================================================================================\n",
      "Total params: 1262348 (4.82 MB)\n",
      "Trainable params: 1262348 (4.82 MB)\n",
      "Non-trainable params: 0 (0.00 Byte)\n",
      "__________________________________________________________________________________________________\n"
     ]
    }
   ],
   "source": [
    "decoder_state_input_h = Input(shape=(LATENT_DIM,), name='Decoder_hidden')\n",
    "decoder_state_input_c = Input(shape=(LATENT_DIM,), name='Decoder_cell')\n",
    "decoder_state_inputs = [decoder_state_input_h, decoder_state_input_c]\n",
    "decoder_input_single = Input(shape=(1,), name='Decoder_input')\n",
    "x = embedding_decoder(decoder_input_single)\n",
    "decoder_output, h, c = decoder_lstm(x, initial_state=decoder_state_inputs)\n",
    "decoder_states = [h, c]\n",
    "decoder_output = decoder_dense(decoder_output)\n",
    "decoder_model = Model(\n",
    "    [decoder_input_single] + decoder_state_inputs,\n",
    "    [decoder_output] + decoder_states\n",
    ")\n",
    "decoder_model.summary()"
   ]
  },
  {
   "cell_type": "code",
   "execution_count": 29,
   "metadata": {},
   "outputs": [
    {
     "data": {
      "image/png": "[encoded data removed]",
      "text/plain": [
       "<IPython.core.display.Image object>"
      ]
     },
     "execution_count": 29,
     "metadata": {},
     "output_type": "execute_result"
    }
   ],
   "source": [
    "plot_model(decoder_model, show_shapes=True)"
   ]
  },
  {
   "cell_type": "code",
   "execution_count": 30,
   "metadata": {},
   "outputs": [],
   "source": [
    "def decode_sequence(input_seq):\n",
    "    states_value = encoder_model.predict(input_seq, verbose=0)\n",
    "    target_seq = np.zeros((1, 1))\n",
    "    target_seq[0, 0] = bos_id\n",
    "    eos = eos_id\n",
    "    output_ids = []\n",
    "    for _ in range(max_len_a):\n",
    "        output_tokens, h, c = decoder_model.predict([target_seq] + states_value, verbose=0)\n",
    "        idx = np.argmax(output_tokens[0, 0, :])\n",
    "        if idx == eos:\n",
    "            break\n",
    "        if idx > 0:\n",
    "            output_ids.append(int(idx))\n",
    "        target_seq[0, 0] = idx\n",
    "        states_value = [h, c]\n",
    "    return output_ids"
   ]
  },
  {
   "cell_type": "code",
   "execution_count": 31,
   "metadata": {},
   "outputs": [
    {
     "name": "stdout",
     "output_type": "stream",
     "text": [
      "-\n",
      "q: 수업시간 내내 잤어\n",
      "a: 한창 잠이 많을 때죠.\n",
      "-\n",
      "q: 어이 없는 헤어짐\n",
      "a: 예상하지 못한 이별이었네요.\n",
      "-\n",
      "q: 커피 타기 귀찮아\n",
      "a: 커피는 셀프였으면 좋겠어요.\n",
      "-\n",
      "q: 이별 성장통이 너무 길다.\n",
      "a: 그만큼 많이 성장하려 하나봐요.\n",
      "-\n",
      "q: 짝녀 보란 듯이 성공하고 싶습니다.\n",
      "a: 비움을 거라요.\n"
     ]
    }
   ],
   "source": [
    "sp.Load(f'data/{model_prefix}.model')\n",
    "for _ in range(5):\n",
    "    i = np.random.choice(len(q_texts))\n",
    "    input_seq = encoder_input[i:i+1]\n",
    "    response = decode_sequence(input_seq)\n",
    "    print('-')\n",
    "    print('q:', q_texts[i])\n",
    "    print('a:', sp.DecodeIds(response))"
   ]
  },
  {
   "cell_type": "code",
   "execution_count": 32,
   "metadata": {},
   "outputs": [
    {
     "name": "stdout",
     "output_type": "stream",
     "text": [
      "q: 다시 사랑한다 말할까?\n",
      "a: 그럼요.\n",
      "q: 사랑해!\n",
      "a: 흔들리지 말아요.\n",
      "q: 잘자!\n",
      "a: 그걸 깨닫다니 대단하시군요.\n"
     ]
    }
   ],
   "source": [
    "while True:\n",
    "    txt = input('q:')    \n",
    "    if txt.lower() == 'quit':\n",
    "        break\n",
    "    print('q:', txt)\n",
    "    input_seq = sp.encode_as_ids(txt)\n",
    "    encoder_input = pad_sequences([input_seq], maxlen=MAX_LEN)\n",
    "    answer = decode_sequence(encoder_input)\n",
    "    print('a:', sp.DecodeIds(answer))"
   ]
  },
  {
   "cell_type": "code",
   "execution_count": null,
   "metadata": {},
   "outputs": [],
   "source": []
  }
 ],
 "metadata": {
  "kernelspec": {
   "display_name": ".venv",
   "language": "python",
   "name": "python3"
  },
  "language_info": {
   "codemirror_mode": {
    "name": "ipython",
    "version": 3
   },
   "file_extension": ".py",
   "mimetype": "text/x-python",
   "name": "python",
   "nbconvert_exporter": "python",
   "pygments_lexer": "ipython3",
   "version": "3.8.13"
  },
  "orig_nbformat": 4
 },
 "nbformat": 4,
 "nbformat_minor": 2
}
