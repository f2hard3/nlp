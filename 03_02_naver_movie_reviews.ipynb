{
 "cells": [
  {
   "cell_type": "code",
   "execution_count": 1,
   "metadata": {},
   "outputs": [
    {
     "name": "stderr",
     "output_type": "stream",
     "text": [
      "2023-08-15 00:00:13.983483: I tensorflow/core/platform/cpu_feature_guard.cc:182] This TensorFlow binary is optimized to use available CPU instructions in performance-critical operations.\n",
      "To enable the following instructions: AVX2 AVX512F FMA, in other operations, rebuild TensorFlow with the appropriate compiler flags.\n"
     ]
    }
   ],
   "source": [
    "import numpy as np\n",
    "import pandas as pd\n",
    "import re\n",
    "import time\n",
    "import matplotlib.pyplot as plt\n",
    "from konlpy.tag import Okt\n",
    "import tensorflow as tf\n",
    "from tensorflow.keras.preprocessing.text import Tokenizer\n",
    "from tensorflow.keras.preprocessing.sequence import pad_sequences\n",
    "from tensorflow.keras.models import Sequential\n",
    "from tensorflow.keras.layers import Embedding, Bidirectional, Dense, LSTM"
   ]
  },
  {
   "cell_type": "code",
   "execution_count": 2,
   "metadata": {},
   "outputs": [],
   "source": [
    "DATA_TRAIN_PATH = tf.keras.utils.get_file(\n",
    "    'ratings_train.txt',\n",
    "    'https://github.com/ironmanciti/NLP_lecture/raw/master/data/naver_movie/ratings_train.txt'\n",
    ")\n",
    "DATA_TEST_PATH = tf.keras.utils.get_file(\n",
    "    'ratings_test.txt',\n",
    "    'https://github.com/ironmanciti/NLP_lecture/raw/master/data/naver_movie/ratings_test.txt'\n",
    ")"
   ]
  },
  {
   "cell_type": "code",
   "execution_count": 3,
   "metadata": {},
   "outputs": [
    {
     "data": {
      "text/html": [
       "<div>\n",
       "<style scoped>\n",
       "    .dataframe tbody tr th:only-of-type {\n",
       "        vertical-align: middle;\n",
       "    }\n",
       "\n",
       "    .dataframe tbody tr th {\n",
       "        vertical-align: top;\n",
       "    }\n",
       "\n",
       "    .dataframe thead th {\n",
       "        text-align: right;\n",
       "    }\n",
       "</style>\n",
       "<table border=\"1\" class=\"dataframe\">\n",
       "  <thead>\n",
       "    <tr style=\"text-align: right;\">\n",
       "      <th></th>\n",
       "      <th>id</th>\n",
       "      <th>document</th>\n",
       "      <th>label</th>\n",
       "    </tr>\n",
       "  </thead>\n",
       "  <tbody>\n",
       "    <tr>\n",
       "      <th>0</th>\n",
       "      <td>9976970</td>\n",
       "      <td>아 더빙.. 진짜 짜증나네요 목소리</td>\n",
       "      <td>0</td>\n",
       "    </tr>\n",
       "    <tr>\n",
       "      <th>1</th>\n",
       "      <td>3819312</td>\n",
       "      <td>흠...포스터보고 초딩영화줄....오버연기조차 가볍지 않구나</td>\n",
       "      <td>1</td>\n",
       "    </tr>\n",
       "    <tr>\n",
       "      <th>2</th>\n",
       "      <td>10265843</td>\n",
       "      <td>너무재밓었다그래서보는것을추천한다</td>\n",
       "      <td>0</td>\n",
       "    </tr>\n",
       "    <tr>\n",
       "      <th>3</th>\n",
       "      <td>9045019</td>\n",
       "      <td>교도소 이야기구먼 ..솔직히 재미는 없다..평점 조정</td>\n",
       "      <td>0</td>\n",
       "    </tr>\n",
       "    <tr>\n",
       "      <th>4</th>\n",
       "      <td>6483659</td>\n",
       "      <td>사이몬페그의 익살스런 연기가 돋보였던 영화!스파이더맨에서 늙어보이기만 했던 커스틴 ...</td>\n",
       "      <td>1</td>\n",
       "    </tr>\n",
       "    <tr>\n",
       "      <th>...</th>\n",
       "      <td>...</td>\n",
       "      <td>...</td>\n",
       "      <td>...</td>\n",
       "    </tr>\n",
       "    <tr>\n",
       "      <th>149995</th>\n",
       "      <td>6222902</td>\n",
       "      <td>인간이 문제지.. 소는 뭔죄인가..</td>\n",
       "      <td>0</td>\n",
       "    </tr>\n",
       "    <tr>\n",
       "      <th>149996</th>\n",
       "      <td>8549745</td>\n",
       "      <td>평점이 너무 낮아서...</td>\n",
       "      <td>1</td>\n",
       "    </tr>\n",
       "    <tr>\n",
       "      <th>149997</th>\n",
       "      <td>9311800</td>\n",
       "      <td>이게 뭐요? 한국인은 거들먹거리고 필리핀 혼혈은 착하다?</td>\n",
       "      <td>0</td>\n",
       "    </tr>\n",
       "    <tr>\n",
       "      <th>149998</th>\n",
       "      <td>2376369</td>\n",
       "      <td>청춘 영화의 최고봉.방황과 우울했던 날들의 자화상</td>\n",
       "      <td>1</td>\n",
       "    </tr>\n",
       "    <tr>\n",
       "      <th>149999</th>\n",
       "      <td>9619869</td>\n",
       "      <td>한국 영화 최초로 수간하는 내용이 담긴 영화</td>\n",
       "      <td>0</td>\n",
       "    </tr>\n",
       "  </tbody>\n",
       "</table>\n",
       "<p>150000 rows × 3 columns</p>\n",
       "</div>"
      ],
      "text/plain": [
       "              id                                           document  label\n",
       "0        9976970                                아 더빙.. 진짜 짜증나네요 목소리      0\n",
       "1        3819312                  흠...포스터보고 초딩영화줄....오버연기조차 가볍지 않구나      1\n",
       "2       10265843                                  너무재밓었다그래서보는것을추천한다      0\n",
       "3        9045019                      교도소 이야기구먼 ..솔직히 재미는 없다..평점 조정      0\n",
       "4        6483659  사이몬페그의 익살스런 연기가 돋보였던 영화!스파이더맨에서 늙어보이기만 했던 커스틴 ...      1\n",
       "...          ...                                                ...    ...\n",
       "149995   6222902                                인간이 문제지.. 소는 뭔죄인가..      0\n",
       "149996   8549745                                      평점이 너무 낮아서...      1\n",
       "149997   9311800                    이게 뭐요? 한국인은 거들먹거리고 필리핀 혼혈은 착하다?      0\n",
       "149998   2376369                        청춘 영화의 최고봉.방황과 우울했던 날들의 자화상      1\n",
       "149999   9619869                           한국 영화 최초로 수간하는 내용이 담긴 영화      0\n",
       "\n",
       "[150000 rows x 3 columns]"
      ]
     },
     "execution_count": 3,
     "metadata": {},
     "output_type": "execute_result"
    }
   ],
   "source": [
    "train_data = pd.read_csv(DATA_TRAIN_PATH, delimiter='\\t')\n",
    "train_data"
   ]
  },
  {
   "cell_type": "code",
   "execution_count": 4,
   "metadata": {},
   "outputs": [
    {
     "data": {
      "text/html": [
       "<div>\n",
       "<style scoped>\n",
       "    .dataframe tbody tr th:only-of-type {\n",
       "        vertical-align: middle;\n",
       "    }\n",
       "\n",
       "    .dataframe tbody tr th {\n",
       "        vertical-align: top;\n",
       "    }\n",
       "\n",
       "    .dataframe thead th {\n",
       "        text-align: right;\n",
       "    }\n",
       "</style>\n",
       "<table border=\"1\" class=\"dataframe\">\n",
       "  <thead>\n",
       "    <tr style=\"text-align: right;\">\n",
       "      <th></th>\n",
       "      <th>id</th>\n",
       "      <th>document</th>\n",
       "      <th>label</th>\n",
       "    </tr>\n",
       "  </thead>\n",
       "  <tbody>\n",
       "    <tr>\n",
       "      <th>0</th>\n",
       "      <td>6270596</td>\n",
       "      <td>굳 ㅋ</td>\n",
       "      <td>1</td>\n",
       "    </tr>\n",
       "    <tr>\n",
       "      <th>1</th>\n",
       "      <td>9274899</td>\n",
       "      <td>GDNTOPCLASSINTHECLUB</td>\n",
       "      <td>0</td>\n",
       "    </tr>\n",
       "    <tr>\n",
       "      <th>2</th>\n",
       "      <td>8544678</td>\n",
       "      <td>뭐야 이 평점들은.... 나쁘진 않지만 10점 짜리는 더더욱 아니잖아</td>\n",
       "      <td>0</td>\n",
       "    </tr>\n",
       "    <tr>\n",
       "      <th>3</th>\n",
       "      <td>6825595</td>\n",
       "      <td>지루하지는 않은데 완전 막장임... 돈주고 보기에는....</td>\n",
       "      <td>0</td>\n",
       "    </tr>\n",
       "    <tr>\n",
       "      <th>4</th>\n",
       "      <td>6723715</td>\n",
       "      <td>3D만 아니었어도 별 다섯 개 줬을텐데.. 왜 3D로 나와서 제 심기를 불편하게 하죠??</td>\n",
       "      <td>0</td>\n",
       "    </tr>\n",
       "    <tr>\n",
       "      <th>...</th>\n",
       "      <td>...</td>\n",
       "      <td>...</td>\n",
       "      <td>...</td>\n",
       "    </tr>\n",
       "    <tr>\n",
       "      <th>49995</th>\n",
       "      <td>4608761</td>\n",
       "      <td>오랜만에 평점 로긴했네ㅋㅋ 킹왕짱 쌈뽕한 영화를 만났습니다 강렬하게 육쾌함</td>\n",
       "      <td>1</td>\n",
       "    </tr>\n",
       "    <tr>\n",
       "      <th>49996</th>\n",
       "      <td>5308387</td>\n",
       "      <td>의지 박약들이나 하는거다 탈영은 일단 주인공 김대희 닮았고 이등병 찐따 OOOO</td>\n",
       "      <td>0</td>\n",
       "    </tr>\n",
       "    <tr>\n",
       "      <th>49997</th>\n",
       "      <td>9072549</td>\n",
       "      <td>그림도 좋고 완성도도 높았지만... 보는 내내 불안하게 만든다</td>\n",
       "      <td>0</td>\n",
       "    </tr>\n",
       "    <tr>\n",
       "      <th>49998</th>\n",
       "      <td>5802125</td>\n",
       "      <td>절대 봐서는 안 될 영화.. 재미도 없고 기분만 잡치고.. 한 세트장에서 다 해먹네</td>\n",
       "      <td>0</td>\n",
       "    </tr>\n",
       "    <tr>\n",
       "      <th>49999</th>\n",
       "      <td>6070594</td>\n",
       "      <td>마무리는 또 왜이래</td>\n",
       "      <td>0</td>\n",
       "    </tr>\n",
       "  </tbody>\n",
       "</table>\n",
       "<p>50000 rows × 3 columns</p>\n",
       "</div>"
      ],
      "text/plain": [
       "            id                                           document  label\n",
       "0      6270596                                                굳 ㅋ      1\n",
       "1      9274899                               GDNTOPCLASSINTHECLUB      0\n",
       "2      8544678             뭐야 이 평점들은.... 나쁘진 않지만 10점 짜리는 더더욱 아니잖아      0\n",
       "3      6825595                   지루하지는 않은데 완전 막장임... 돈주고 보기에는....      0\n",
       "4      6723715  3D만 아니었어도 별 다섯 개 줬을텐데.. 왜 3D로 나와서 제 심기를 불편하게 하죠??      0\n",
       "...        ...                                                ...    ...\n",
       "49995  4608761          오랜만에 평점 로긴했네ㅋㅋ 킹왕짱 쌈뽕한 영화를 만났습니다 강렬하게 육쾌함      1\n",
       "49996  5308387       의지 박약들이나 하는거다 탈영은 일단 주인공 김대희 닮았고 이등병 찐따 OOOO      0\n",
       "49997  9072549                 그림도 좋고 완성도도 높았지만... 보는 내내 불안하게 만든다      0\n",
       "49998  5802125     절대 봐서는 안 될 영화.. 재미도 없고 기분만 잡치고.. 한 세트장에서 다 해먹네      0\n",
       "49999  6070594                                         마무리는 또 왜이래      0\n",
       "\n",
       "[50000 rows x 3 columns]"
      ]
     },
     "execution_count": 4,
     "metadata": {},
     "output_type": "execute_result"
    }
   ],
   "source": [
    "test_data = pd.read_csv(DATA_TEST_PATH, delimiter='\\t')\n",
    "test_data"
   ]
  },
  {
   "cell_type": "code",
   "execution_count": 5,
   "metadata": {},
   "outputs": [
    {
     "data": {
      "text/plain": [
       "((50000, 3), (5000, 3))"
      ]
     },
     "execution_count": 5,
     "metadata": {},
     "output_type": "execute_result"
    }
   ],
   "source": [
    "train_data = train_data.sample(n=50000, random_state=42)\n",
    "test_data = train_data.sample(n=5000, random_state=42)\n",
    "train_data.shape, test_data.shape"
   ]
  },
  {
   "cell_type": "code",
   "execution_count": 6,
   "metadata": {},
   "outputs": [],
   "source": [
    "train_data.dropna(inplace=True)\n",
    "test_data.dropna(inplace=True)"
   ]
  },
  {
   "cell_type": "code",
   "execution_count": 7,
   "metadata": {},
   "outputs": [
    {
     "data": {
      "text/plain": [
       "(id          0\n",
       " document    0\n",
       " label       0\n",
       " dtype: int64,\n",
       " id          0\n",
       " document    0\n",
       " label       0\n",
       " dtype: int64)"
      ]
     },
     "execution_count": 7,
     "metadata": {},
     "output_type": "execute_result"
    }
   ],
   "source": [
    "train_data.isnull().sum(), test_data.isnull().sum()"
   ]
  },
  {
   "cell_type": "code",
   "execution_count": 9,
   "metadata": {},
   "outputs": [
    {
     "data": {
      "text/plain": [
       "['아버지', '가방', '에', '들어가신다']"
      ]
     },
     "execution_count": 9,
     "metadata": {},
     "output_type": "execute_result"
    }
   ],
   "source": [
    "okt = Okt()\n",
    "test_text = '아버지가방에들어가신다'\n",
    "okt.morphs(test_text, stem=True)"
   ]
  },
  {
   "cell_type": "code",
   "execution_count": 10,
   "metadata": {},
   "outputs": [],
   "source": [
    "def preprocessing(sentence, remove_stopwords=True):\n",
    "    #stop_words = set(['에', '은', '는', '이', '가', '그리고', '것', '들', '수', '등', '로', '을', '를', '만', '도', '아', '의', '그', '다'])\n",
    "    stop_words = []\n",
    "    sentence = re.sub('\\\\\\\\n', ' ', sentence)\n",
    "    sentence = re.sub('[^가-힣ㄱ-ㅎㅏ-ㅣ ]', '', sentence)\n",
    "    sentence = okt.morphs(sentence, stem=True)\n",
    "    if remove_stopwords:\n",
    "        sentence = [token for token in sentence if token not in stop_words]\n",
    "    return sentence"
   ]
  },
  {
   "cell_type": "code",
   "execution_count": 14,
   "metadata": {},
   "outputs": [
    {
     "name": "stdout",
     "output_type": "stream",
     "text": [
      "Train processed = 0\n",
      "Train processed = 10000\n",
      "Train processed = 20000\n",
      "Train processed = 30000\n",
      "Train processed = 40000\n",
      "Test processed = 0\n",
      "Test processed = 1000\n",
      "Test processed = 2000\n",
      "Test processed = 3000\n",
      "Test processed = 4000\n",
      "CPU times: user 3min 7s, sys: 1.38 s, total: 3min 8s\n",
      "Wall time: 3min 4s\n"
     ]
    }
   ],
   "source": [
    "%%time\n",
    "train_sentences = []\n",
    "train_labels = []\n",
    "test_sentences = []\n",
    "test_labels = []\n",
    "for i, (sentence, label) in enumerate(zip(train_data['document'], train_data['label'])):\n",
    "    if i % 10000 == 0:\n",
    "        print(f'Train processed = {i}')\n",
    "    sentence = preprocessing(sentence)\n",
    "    if len(sentence) > 0:\n",
    "        train_sentences.append(sentence)\n",
    "        train_labels.append(label)\n",
    "for i, (sentence, label) in enumerate(zip(test_data['document'], test_data['label'])):\n",
    "    if i % 1000 == 0:\n",
    "        print(f'Test processed = {i}')\n",
    "    sentence = preprocessing(sentence)\n",
    "    if len(sentence) > 0:\n",
    "        test_sentences.append(sentence)\n",
    "        test_labels.append(label)\n"
   ]
  },
  {
   "cell_type": "code",
   "execution_count": 16,
   "metadata": {},
   "outputs": [
    {
     "data": {
      "text/plain": [
       "((49552,), (4956,))"
      ]
     },
     "execution_count": 16,
     "metadata": {},
     "output_type": "execute_result"
    }
   ],
   "source": [
    "train_labels = np.array(train_labels)\n",
    "test_labels = np.array(test_labels)\n",
    "train_labels.shape, test_labels.shape"
   ]
  },
  {
   "cell_type": "code",
   "execution_count": 17,
   "metadata": {},
   "outputs": [
    {
     "data": {
      "text/plain": [
       "([11051, 7, 95, 4], [2, 51, 43, 4728, 1, 2337, 276, 3, 2235])"
      ]
     },
     "execution_count": 17,
     "metadata": {},
     "output_type": "execute_result"
    }
   ],
   "source": [
    "VOCAB_SIZE = 20_000\n",
    "tokenizer = Tokenizer(num_words=VOCAB_SIZE, oov_token='<OOV>')\n",
    "tokenizer.fit_on_texts(train_sentences)\n",
    "train_sequences = tokenizer.texts_to_sequences(train_sentences)\n",
    "test_sequences = tokenizer.texts_to_sequences(test_sentences)\n",
    "train_sequences[0], test_sequences[0]"
   ]
  },
  {
   "cell_type": "code",
   "execution_count": 15,
   "metadata": {},
   "outputs": [
    {
     "data": {
      "text/plain": [
       "(array([5.9700e+03, 6.8590e+03, 1.0896e+04, 5.9100e+03, 5.1260e+03,\n",
       "        6.0040e+03, 2.6960e+03, 1.8910e+03, 1.7550e+03, 8.3300e+02,\n",
       "        1.0050e+03, 6.0300e+02, 5.3500e+02, 7.0200e+02, 4.4200e+02,\n",
       "        4.1100e+02, 4.8700e+02, 3.4700e+02, 3.1800e+02, 4.9700e+02,\n",
       "        3.6300e+02, 4.4900e+02, 1.6800e+02, 1.2500e+02, 7.8000e+01,\n",
       "        2.0000e+01, 7.0000e+00, 5.0000e+00, 4.0000e+00, 2.0000e+00]),\n",
       " array([ 1.        ,  3.36666667,  5.73333333,  8.1       , 10.46666667,\n",
       "        12.83333333, 15.2       , 17.56666667, 19.93333333, 22.3       ,\n",
       "        24.66666667, 27.03333333, 29.4       , 31.76666667, 34.13333333,\n",
       "        36.5       , 38.86666667, 41.23333333, 43.6       , 45.96666667,\n",
       "        48.33333333, 50.7       , 53.06666667, 55.43333333, 57.8       ,\n",
       "        60.16666667, 62.53333333, 64.9       , 67.26666667, 69.63333333,\n",
       "        72.        ]),\n",
       " <BarContainer object of 30 artists>)"
      ]
     },
     "execution_count": 15,
     "metadata": {},
     "output_type": "execute_result"
    },
    {
     "data": {
      "image/png": "[encoded data removed]",
      "text/plain": [
       "<Figure size 640x480 with 1 Axes>"
      ]
     },
     "metadata": {},
     "output_type": "display_data"
    }
   ],
   "source": [
    "plt.hist([len(seq) for seq in train_sequences] + [len(seq) for seq in test_sequences], bins=30)"
   ]
  },
  {
   "cell_type": "code",
   "execution_count": 18,
   "metadata": {},
   "outputs": [
    {
     "data": {
      "text/plain": [
       "((49552, 15), (4956, 15))"
      ]
     },
     "execution_count": 18,
     "metadata": {},
     "output_type": "execute_result"
    }
   ],
   "source": [
    "max_length = 15\n",
    "train_padded = pad_sequences(train_sequences, maxlen=max_length, padding='post', truncating='post')\n",
    "test_padded = pad_sequences(test_sequences, maxlen=max_length, padding='post', truncating='post')\n",
    "train_padded.shape, test_padded.shape"
   ]
  },
  {
   "cell_type": "code",
   "execution_count": 24,
   "metadata": {},
   "outputs": [
    {
     "data": {
      "text/plain": [
       "(array([1410,  147, 1087,   10,   58,  606,    7,  756,    7, 2954,   11,\n",
       "        1071,  786,  571,  444], dtype=int32),\n",
       " array([4550, 1263,  423,   69,  102,   12, 2308,  383,   12,   41, 1998,\n",
       "          50,   13,    4, 1614], dtype=int32))"
      ]
     },
     "execution_count": 24,
     "metadata": {},
     "output_type": "execute_result"
    }
   ],
   "source": [
    "train_padded[4], test_padded[4]"
   ]
  },
  {
   "cell_type": "code",
   "execution_count": 25,
   "metadata": {},
   "outputs": [],
   "source": [
    "def decode_sentence(sequence):\n",
    "    return ' '.join([tokenizer.index_word.get(i, '?') for i in sequence])"
   ]
  },
  {
   "cell_type": "code",
   "execution_count": 26,
   "metadata": {},
   "outputs": [
    {
     "name": "stdout",
     "output_type": "stream",
     "text": [
      "우와 별 반개 도 아깝다 판 에 밑 에 알바생 들 쩐다 전부 만점 이야\n",
      "['우와', '별', '반개', '도', '아깝다', '판', '에', '밑', '에', '알바생', '들', '쩐다', '전부', '만점', '이야', 'ㅎㅎㅎ', '야', '그만하다', '저', '영화', '는', '정말', '쓰레기', '다', '원작', '에서', '크게', '벋다', '나다', '마치', '메간폭스', '를', '위해', '스폰', '한', '영화', '저걸', '보다', '투니버스', '보다', '돈', '아깝다', '시간', '아깝다']\n"
     ]
    }
   ],
   "source": [
    "print(decode_sentence(train_padded[4]))\n",
    "print(train_sentences[4])"
   ]
  },
  {
   "cell_type": "code",
   "execution_count": 27,
   "metadata": {},
   "outputs": [
    {
     "name": "stderr",
     "output_type": "stream",
     "text": [
      "2023-08-15 00:24:05.799822: I tensorflow/core/common_runtime/gpu/gpu_device.cc:1639] Created device /job:localhost/replica:0/task:0/device:GPU:0 with 6638 MB memory:  -> device: 0, name: GeForce RTX 2070 SUPER, pci bus id: 0000:3f:00.0, compute capability: 7.5\n"
     ]
    },
    {
     "name": "stdout",
     "output_type": "stream",
     "text": [
      "Model: \"sequential\"\n",
      "_________________________________________________________________\n",
      " Layer (type)                Output Shape              Param #   \n",
      "=================================================================\n",
      " embedding (Embedding)       (None, None, 64)          1280064   \n",
      "                                                                 \n",
      " bidirectional (Bidirection  (None, 128)               66048     \n",
      " al)                                                             \n",
      "                                                                 \n",
      " dense (Dense)               (None, 32)                4128      \n",
      "                                                                 \n",
      " dense_1 (Dense)             (None, 1)                 33        \n",
      "                                                                 \n",
      "=================================================================\n",
      "Total params: 1350273 (5.15 MB)\n",
      "Trainable params: 1350273 (5.15 MB)\n",
      "Non-trainable params: 0 (0.00 Byte)\n",
      "_________________________________________________________________\n"
     ]
    }
   ],
   "source": [
    "model = Sequential([\n",
    "    Embedding(VOCAB_SIZE + 1, 64),\n",
    "    Bidirectional(LSTM(64)),\n",
    "    Dense(32, activation='relu'),\n",
    "    Dense(1, activation='sigmoid')\n",
    "])\n",
    "model.compile(loss='binary_crossentropy', optimizer='adam', metrics=['accuracy'])\n",
    "model.summary()"
   ]
  },
  {
   "cell_type": "code",
   "execution_count": 28,
   "metadata": {},
   "outputs": [
    {
     "name": "stdout",
     "output_type": "stream",
     "text": [
      "Epoch 1/30\n"
     ]
    },
    {
     "name": "stderr",
     "output_type": "stream",
     "text": [
      "2023-08-15 00:25:31.813061: I tensorflow/compiler/xla/stream_executor/cuda/cuda_dnn.cc:432] Loaded cuDNN version 8600\n",
      "2023-08-15 00:25:32.014184: I tensorflow/compiler/xla/service/service.cc:168] XLA service 0x7ff5100180b0 initialized for platform CUDA (this does not guarantee that XLA will be used). Devices:\n",
      "2023-08-15 00:25:32.014267: I tensorflow/compiler/xla/service/service.cc:176]   StreamExecutor device (0): GeForce RTX 2070 SUPER, Compute Capability 7.5\n",
      "2023-08-15 00:25:32.027678: I tensorflow/compiler/mlir/tensorflow/utils/dump_mlir_util.cc:255] disabling MLIR crash reproducer, set env var `MLIR_CRASH_REPRODUCER_DIRECTORY` to enable.\n",
      "2023-08-15 00:25:32.205588: I ./tensorflow/compiler/jit/device_compiler.h:186] Compiled cluster using XLA!  This line is logged at most once for the lifetime of the process.\n"
     ]
    },
    {
     "name": "stdout",
     "output_type": "stream",
     "text": [
      "388/388 [==============================] - 43s 91ms/step - loss: 0.4558 - accuracy: 0.7765 - val_loss: 0.3236 - val_accuracy: 0.8658\n",
      "Epoch 2/30\n",
      "388/388 [==============================] - 9s 23ms/step - loss: 0.3297 - accuracy: 0.8558 - val_loss: 0.2584 - val_accuracy: 0.8973\n",
      "Epoch 3/30\n",
      "388/388 [==============================] - 8s 22ms/step - loss: 0.2664 - accuracy: 0.8851 - val_loss: 0.2023 - val_accuracy: 0.9171\n",
      "Epoch 4/30\n",
      "388/388 [==============================] - 7s 19ms/step - loss: 0.2169 - accuracy: 0.9074 - val_loss: 0.1679 - val_accuracy: 0.9366\n",
      "Epoch 5/30\n",
      "388/388 [==============================] - 7s 18ms/step - loss: 0.1802 - accuracy: 0.9239 - val_loss: 0.1394 - val_accuracy: 0.9483\n",
      "Epoch 6/30\n",
      "388/388 [==============================] - 7s 17ms/step - loss: 0.1510 - accuracy: 0.9373 - val_loss: 0.1180 - val_accuracy: 0.9566\n",
      "Epoch 7/30\n",
      "388/388 [==============================] - 5s 12ms/step - loss: 0.1305 - accuracy: 0.9467 - val_loss: 0.1146 - val_accuracy: 0.9562\n",
      "Epoch 8/30\n",
      "388/388 [==============================] - 6s 15ms/step - loss: 0.1117 - accuracy: 0.9554 - val_loss: 0.0863 - val_accuracy: 0.9705\n",
      "Epoch 9/30\n",
      "388/388 [==============================] - 6s 16ms/step - loss: 0.0962 - accuracy: 0.9626 - val_loss: 0.0776 - val_accuracy: 0.9758\n",
      "Epoch 10/30\n",
      "388/388 [==============================] - 6s 15ms/step - loss: 0.0831 - accuracy: 0.9678 - val_loss: 0.0641 - val_accuracy: 0.9764\n",
      "Epoch 11/30\n",
      "388/388 [==============================] - 6s 15ms/step - loss: 0.0764 - accuracy: 0.9705 - val_loss: 0.0614 - val_accuracy: 0.9800\n",
      "Epoch 12/30\n",
      "388/388 [==============================] - 5s 13ms/step - loss: 0.0696 - accuracy: 0.9742 - val_loss: 0.0581 - val_accuracy: 0.9802\n",
      "Epoch 13/30\n",
      "388/388 [==============================] - 6s 14ms/step - loss: 0.0611 - accuracy: 0.9771 - val_loss: 0.0470 - val_accuracy: 0.9831\n",
      "Epoch 14/30\n",
      "388/388 [==============================] - 5s 14ms/step - loss: 0.0565 - accuracy: 0.9792 - val_loss: 0.0440 - val_accuracy: 0.9849\n",
      "Epoch 15/30\n",
      "388/388 [==============================] - 7s 17ms/step - loss: 0.0518 - accuracy: 0.9811 - val_loss: 0.0436 - val_accuracy: 0.9853\n",
      "Epoch 16/30\n",
      "388/388 [==============================] - 5s 13ms/step - loss: 0.0499 - accuracy: 0.9808 - val_loss: 0.0461 - val_accuracy: 0.9835\n",
      "Epoch 17/30\n",
      "388/388 [==============================] - 5s 13ms/step - loss: 0.0442 - accuracy: 0.9833 - val_loss: 0.0366 - val_accuracy: 0.9851\n",
      "Epoch 18/30\n",
      "388/388 [==============================] - 5s 13ms/step - loss: 0.0447 - accuracy: 0.9834 - val_loss: 0.0359 - val_accuracy: 0.9875\n",
      "Epoch 19/30\n",
      "388/388 [==============================] - 5s 13ms/step - loss: 0.0389 - accuracy: 0.9854 - val_loss: 0.0309 - val_accuracy: 0.9893\n",
      "Epoch 20/30\n",
      "388/388 [==============================] - 5s 14ms/step - loss: 0.0358 - accuracy: 0.9869 - val_loss: 0.0275 - val_accuracy: 0.9895\n",
      "Epoch 21/30\n",
      "388/388 [==============================] - 6s 15ms/step - loss: 0.0343 - accuracy: 0.9872 - val_loss: 0.0315 - val_accuracy: 0.9891\n",
      "Epoch 22/30\n",
      "388/388 [==============================] - 5s 13ms/step - loss: 0.0348 - accuracy: 0.9866 - val_loss: 0.0284 - val_accuracy: 0.9893\n",
      "Epoch 23/30\n",
      "388/388 [==============================] - 5s 13ms/step - loss: 0.0289 - accuracy: 0.9892 - val_loss: 0.0249 - val_accuracy: 0.9917\n",
      "Epoch 24/30\n",
      "388/388 [==============================] - 5s 14ms/step - loss: 0.0288 - accuracy: 0.9895 - val_loss: 0.0212 - val_accuracy: 0.9923\n",
      "Epoch 25/30\n",
      "388/388 [==============================] - 5s 13ms/step - loss: 0.0279 - accuracy: 0.9893 - val_loss: 0.0239 - val_accuracy: 0.9911\n",
      "Epoch 26/30\n",
      "388/388 [==============================] - 5s 13ms/step - loss: 0.0251 - accuracy: 0.9902 - val_loss: 0.0209 - val_accuracy: 0.9921\n",
      "Epoch 27/30\n",
      "388/388 [==============================] - 5s 14ms/step - loss: 0.0257 - accuracy: 0.9905 - val_loss: 0.0203 - val_accuracy: 0.9923\n",
      "Epoch 28/30\n",
      "388/388 [==============================] - 6s 16ms/step - loss: 0.0257 - accuracy: 0.9905 - val_loss: 0.0224 - val_accuracy: 0.9925\n",
      "Epoch 29/30\n",
      "388/388 [==============================] - 5s 13ms/step - loss: 0.0242 - accuracy: 0.9912 - val_loss: 0.0195 - val_accuracy: 0.9923\n",
      "Epoch 30/30\n",
      "388/388 [==============================] - 5s 12ms/step - loss: 0.0207 - accuracy: 0.9922 - val_loss: 0.0140 - val_accuracy: 0.9956\n"
     ]
    }
   ],
   "source": [
    "num_epochs = 30\n",
    "history = model.fit(\n",
    "    train_padded, \n",
    "    train_labels, \n",
    "    epochs=num_epochs, \n",
    "    batch_size=128,\n",
    "    validation_data=(test_padded, test_labels),\n",
    "    verbose=1\n",
    ")"
   ]
  },
  {
   "cell_type": "code",
   "execution_count": 29,
   "metadata": {},
   "outputs": [
    {
     "data": {
      "text/plain": [
       "<matplotlib.legend.Legend at 0x7ff744489190>"
      ]
     },
     "execution_count": 29,
     "metadata": {},
     "output_type": "execute_result"
    },
    {
     "data": {
      "image/png": "[encoded data removed]",
      "text/plain": [
       "<Figure size 1200x400 with 2 Axes>"
      ]
     },
     "metadata": {},
     "output_type": "display_data"
    }
   ],
   "source": [
    "fig, (ax1, ax2) = plt.subplots(1, 2, figsize=(12, 4))\n",
    "ax1.plot(history.history['accuracy'], label='accuracy')\n",
    "ax1.plot(history.history['val_accuracy'], label='val_accuracy')\n",
    "ax1.set_xlabel('epochs')\n",
    "ax1.set_ylabel('accuracy')\n",
    "ax1.legend()\n",
    "ax2.plot(history.history['loss'], label='loss')\n",
    "ax2.plot(history.history['val_loss'], label='val_loss')\n",
    "ax2.set_xlabel('epochs')\n",
    "ax2.set_ylabel('loss')\n",
    "ax2.legend()"
   ]
  },
  {
   "cell_type": "code",
   "execution_count": 30,
   "metadata": {},
   "outputs": [
    {
     "data": {
      "text/html": [
       "<div>\n",
       "<style scoped>\n",
       "    .dataframe tbody tr th:only-of-type {\n",
       "        vertical-align: middle;\n",
       "    }\n",
       "\n",
       "    .dataframe tbody tr th {\n",
       "        vertical-align: top;\n",
       "    }\n",
       "\n",
       "    .dataframe thead th {\n",
       "        text-align: right;\n",
       "    }\n",
       "</style>\n",
       "<table border=\"1\" class=\"dataframe\">\n",
       "  <thead>\n",
       "    <tr style=\"text-align: right;\">\n",
       "      <th></th>\n",
       "      <th>id</th>\n",
       "      <th>document</th>\n",
       "      <th>label</th>\n",
       "    </tr>\n",
       "  </thead>\n",
       "  <tbody>\n",
       "    <tr>\n",
       "      <th>75865</th>\n",
       "      <td>7690899</td>\n",
       "      <td>이게 그 블레이드 런너 흉내 낸 영화구나</td>\n",
       "      <td>0</td>\n",
       "    </tr>\n",
       "    <tr>\n",
       "      <th>132934</th>\n",
       "      <td>9686380</td>\n",
       "      <td>너무 잼났어여 ㅎㅎ 편안하게 보세요</td>\n",
       "      <td>1</td>\n",
       "    </tr>\n",
       "    <tr>\n",
       "      <th>41258</th>\n",
       "      <td>8062785</td>\n",
       "      <td>이 영화 보면서 진짜 짜증이 밀려오는데 스토리가 중요한 내용은 하나도 없고..여자아...</td>\n",
       "      <td>0</td>\n",
       "    </tr>\n",
       "    <tr>\n",
       "      <th>79037</th>\n",
       "      <td>7699472</td>\n",
       "      <td>인생을살면서 거짓말이 필요할때도있다</td>\n",
       "      <td>1</td>\n",
       "    </tr>\n",
       "    <tr>\n",
       "      <th>141357</th>\n",
       "      <td>3241706</td>\n",
       "      <td>윤아언니 ♡해요~!!저는 매일 너는 내 운명 드라마를 보는 학생이에요</td>\n",
       "      <td>1</td>\n",
       "    </tr>\n",
       "    <tr>\n",
       "      <th>...</th>\n",
       "      <td>...</td>\n",
       "      <td>...</td>\n",
       "      <td>...</td>\n",
       "    </tr>\n",
       "    <tr>\n",
       "      <th>71545</th>\n",
       "      <td>8113008</td>\n",
       "      <td>잘짜여진듯 하지만 오류투성인 영화</td>\n",
       "      <td>0</td>\n",
       "    </tr>\n",
       "    <tr>\n",
       "      <th>125741</th>\n",
       "      <td>6005993</td>\n",
       "      <td>재미있게 봤어요...&gt;__신고</td>\n",
       "      <td>1</td>\n",
       "    </tr>\n",
       "    <tr>\n",
       "      <th>114398</th>\n",
       "      <td>3943161</td>\n",
       "      <td>솔직히 너무하네요 영화도 아직나오도 안햇는데 뭘봣다고 평점이 만땅이죠?</td>\n",
       "      <td>0</td>\n",
       "    </tr>\n",
       "    <tr>\n",
       "      <th>119912</th>\n",
       "      <td>3866103</td>\n",
       "      <td>볼땐 몰랐는데.... 그 잔상이 계속 남는다.</td>\n",
       "      <td>1</td>\n",
       "    </tr>\n",
       "    <tr>\n",
       "      <th>40719</th>\n",
       "      <td>5947116</td>\n",
       "      <td>EBS에서 봤는데 뭐라 정리가 힘든,그냥 모두가 한번쯤 봐야하는 영화.다큐멘터리.</td>\n",
       "      <td>1</td>\n",
       "    </tr>\n",
       "  </tbody>\n",
       "</table>\n",
       "<p>5000 rows × 3 columns</p>\n",
       "</div>"
      ],
      "text/plain": [
       "             id                                           document  label\n",
       "75865   7690899                             이게 그 블레이드 런너 흉내 낸 영화구나      0\n",
       "132934  9686380                                너무 잼났어여 ㅎㅎ 편안하게 보세요      1\n",
       "41258   8062785  이 영화 보면서 진짜 짜증이 밀려오는데 스토리가 중요한 내용은 하나도 없고..여자아...      0\n",
       "79037   7699472                                인생을살면서 거짓말이 필요할때도있다      1\n",
       "141357  3241706             윤아언니 ♡해요~!!저는 매일 너는 내 운명 드라마를 보는 학생이에요      1\n",
       "...         ...                                                ...    ...\n",
       "71545   8113008                                 잘짜여진듯 하지만 오류투성인 영화      0\n",
       "125741  6005993                                   재미있게 봤어요...>__신고      1\n",
       "114398  3943161            솔직히 너무하네요 영화도 아직나오도 안햇는데 뭘봣다고 평점이 만땅이죠?      0\n",
       "119912  3866103                          볼땐 몰랐는데.... 그 잔상이 계속 남는다.      1\n",
       "40719   5947116      EBS에서 봤는데 뭐라 정리가 힘든,그냥 모두가 한번쯤 봐야하는 영화.다큐멘터리.      1\n",
       "\n",
       "[5000 rows x 3 columns]"
      ]
     },
     "execution_count": 30,
     "metadata": {},
     "output_type": "execute_result"
    }
   ],
   "source": [
    "test_data"
   ]
  },
  {
   "cell_type": "code",
   "execution_count": 40,
   "metadata": {},
   "outputs": [
    {
     "data": {
      "text/plain": [
       "array([[21,  1, 49,  1,  0,  0,  0,  0,  0,  0,  0,  0,  0,  0,  0]],\n",
       "      dtype=int32)"
      ]
     },
     "execution_count": 40,
     "metadata": {},
     "output_type": "execute_result"
    }
   ],
   "source": [
    "sample_text = ['정말 짜증나서 못 보겠다']\n",
    "sample_seq = tokenizer.texts_to_sequences(sample_text)\n",
    "sample_padded = pad_sequences(sample_seq, maxlen=max_length, padding='post', truncating='post')\n",
    "sample_padded"
   ]
  },
  {
   "cell_type": "code",
   "execution_count": 41,
   "metadata": {},
   "outputs": [
    {
     "name": "stdout",
     "output_type": "stream",
     "text": [
      "1/1 [==============================] - 0s 41ms/step\n"
     ]
    },
    {
     "data": {
      "text/plain": [
       "array([[0.22573298]], dtype=float32)"
      ]
     },
     "execution_count": 41,
     "metadata": {},
     "output_type": "execute_result"
    }
   ],
   "source": [
    "model.predict([sample_padded])"
   ]
  },
  {
   "cell_type": "code",
   "execution_count": 42,
   "metadata": {},
   "outputs": [
    {
     "data": {
      "text/plain": [
       "array([[  1,   1, 369,   0,   0,   0,   0,   0,   0,   0,   0,   0,   0,\n",
       "          0,   0]], dtype=int32)"
      ]
     },
     "execution_count": 42,
     "metadata": {},
     "output_type": "execute_result"
    }
   ],
   "source": [
    "sample_text = ['오랜만에 접한 수작']\n",
    "sample_seq = tokenizer.texts_to_sequences(sample_text)\n",
    "sample_padded = pad_sequences(sample_seq, maxlen=max_length, padding='post', truncating='post')\n",
    "sample_padded"
   ]
  },
  {
   "cell_type": "code",
   "execution_count": 43,
   "metadata": {},
   "outputs": [
    {
     "name": "stdout",
     "output_type": "stream",
     "text": [
      "1/1 [==============================] - 0s 29ms/step\n"
     ]
    },
    {
     "data": {
      "text/plain": [
       "array([[0.9839458]], dtype=float32)"
      ]
     },
     "execution_count": 43,
     "metadata": {},
     "output_type": "execute_result"
    }
   ],
   "source": [
    "model.predict([sample_padded])"
   ]
  },
  {
   "cell_type": "code",
   "execution_count": 44,
   "metadata": {},
   "outputs": [
    {
     "name": "stdout",
     "output_type": "stream",
     "text": [
      "1/1 [==============================] - 0s 27ms/step\n"
     ]
    },
    {
     "data": {
      "text/plain": [
       "['positive']"
      ]
     },
     "execution_count": 44,
     "metadata": {},
     "output_type": "execute_result"
    }
   ],
   "source": [
    "['positive' if model.predict([sample_padded]) >= 0.5 else 'negative']"
   ]
  },
  {
   "cell_type": "code",
   "execution_count": 45,
   "metadata": {},
   "outputs": [
    {
     "data": {
      "text/plain": [
       "[<keras.src.layers.core.embedding.Embedding at 0x7ff744f6ca00>,\n",
       " <keras.src.layers.rnn.bidirectional.Bidirectional at 0x7ff745be6580>,\n",
       " <keras.src.layers.core.dense.Dense at 0x7ff745375460>,\n",
       " <keras.src.layers.core.dense.Dense at 0x7ff745375820>]"
      ]
     },
     "execution_count": 45,
     "metadata": {},
     "output_type": "execute_result"
    }
   ],
   "source": [
    "model.layers"
   ]
  },
  {
   "cell_type": "code",
   "execution_count": 46,
   "metadata": {},
   "outputs": [
    {
     "name": "stdout",
     "output_type": "stream",
     "text": [
      "(20001, 64)\n"
     ]
    }
   ],
   "source": [
    "e = model.layers[0]\n",
    "weights = e.get_weights()[0]\n",
    "print(weights.shape)"
   ]
  },
  {
   "cell_type": "code",
   "execution_count": 47,
   "metadata": {},
   "outputs": [],
   "source": [
    "out_v = open('data/vects.tsv', 'w', encoding='utf-8')\n",
    "out_m = open('data/meta.tsv', 'w', encoding='utf-8')\n",
    "for i in range(1, 1000):\n",
    "    word = tokenizer.index_word.get(i, '?')\n",
    "    embeddings = weights[i]\n",
    "    out_m.write(word + '\\n')\n",
    "    out_v.write('\\t'.join([str(x) for x in embeddings]) + '\\n')\n",
    "out_v.close()\n",
    "out_m.close()"
   ]
  },
  {
   "cell_type": "code",
   "execution_count": null,
   "metadata": {},
   "outputs": [],
   "source": []
  }
 ],
 "metadata": {
  "kernelspec": {
   "display_name": ".venv",
   "language": "python",
   "name": "python3"
  },
  "language_info": {
   "codemirror_mode": {
    "name": "ipython",
    "version": 3
   },
   "file_extension": ".py",
   "mimetype": "text/x-python",
   "name": "python",
   "nbconvert_exporter": "python",
   "pygments_lexer": "ipython3",
   "version": "3.8.13"
  },
  "orig_nbformat": 4
 },
 "nbformat": 4,
 "nbformat_minor": 2
}
