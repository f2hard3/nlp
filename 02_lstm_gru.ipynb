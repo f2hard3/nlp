{
  "nbformat": 4,
  "nbformat_minor": 0,
  "metadata": {
    "colab": {
      "provenance": [],
      "gpuType": "T4"
    },
    "kernelspec": {
      "name": "python3",
      "display_name": "Python 3"
    },
    "language_info": {
      "name": "python"
    },
    "accelerator": "GPU"
  },
  "cells": [
    {
      "cell_type": "code",
      "execution_count": 20,
      "metadata": {
        "id": "eyYnEoxuvHyG"
      },
      "outputs": [],
      "source": [
        "from tensorflow.keras.models import Model\n",
        "from tensorflow.keras.layers import Input, LSTM, Bidirectional, GRU\n",
        "import numpy as np\n",
        "import warnings\n",
        "\n",
        "warnings.filterwarnings('ignore')"
      ]
    },
    {
      "cell_type": "code",
      "source": [
        "B = 2\n",
        "T = 5\n",
        "D = 2\n",
        "U = 3\n",
        "\n",
        "X = np.random.randn(B, T, D)\n",
        "X.shape, X"
      ],
      "metadata": {
        "colab": {
          "base_uri": "https://localhost:8080/"
        },
        "id": "i_1zL9Gxv0Kj",
        "outputId": "8350f86e-b48f-46ee-a324-178074cd011c"
      },
      "execution_count": 33,
      "outputs": [
        {
          "output_type": "execute_result",
          "data": {
            "text/plain": [
              "((2, 5, 2),\n",
              " array([[[ 1.44491378, -0.37883838],\n",
              "         [ 1.136315  ,  1.04057081],\n",
              "         [-0.21683899, -1.55339637],\n",
              "         [ 0.01449   , -0.94652504],\n",
              "         [ 0.85272905,  0.03959404]],\n",
              " \n",
              "        [[ 1.28862533, -1.30228365],\n",
              "         [-0.62834433, -0.33669056],\n",
              "         [ 0.27760031, -1.46619091],\n",
              "         [ 1.43595219,  1.14082813],\n",
              "         [-1.11618955,  0.862076  ]]]))"
            ]
          },
          "metadata": {},
          "execution_count": 33
        }
      ]
    },
    {
      "cell_type": "code",
      "source": [
        "def lstm(data=X, return_sequences=False):\n",
        "  inp = Input(shape=(T, D))\n",
        "  out = LSTM(U, return_sequences=return_sequences)(inp)\n",
        "  model = Model(inputs=inp, outputs=out)\n",
        "  return model.predict(X)"
      ],
      "metadata": {
        "id": "F4TTN24AwClg"
      },
      "execution_count": 22,
      "outputs": []
    },
    {
      "cell_type": "code",
      "source": [
        "print('----return_sequences=False----')\n",
        "lstm_out = lstm()\n",
        "lstm_out.shape, lstm_out"
      ],
      "metadata": {
        "colab": {
          "base_uri": "https://localhost:8080/"
        },
        "id": "x-T4yt7877WI",
        "outputId": "29a9b70d-a619-45ec-b655-d912c9751a35"
      },
      "execution_count": 23,
      "outputs": [
        {
          "output_type": "stream",
          "name": "stdout",
          "text": [
            "----return_sequences=False----\n",
            "1/1 [==============================] - 0s 353ms/step\n"
          ]
        },
        {
          "output_type": "execute_result",
          "data": {
            "text/plain": [
              "((2, 3),\n",
              " array([[ 0.2305741 , -0.03407818,  0.06759147],\n",
              "        [ 0.21218197,  0.03541003,  0.12211575]], dtype=float32))"
            ]
          },
          "metadata": {},
          "execution_count": 23
        }
      ]
    },
    {
      "cell_type": "code",
      "source": [
        "print('----return_sequences=True')\n",
        "lstm_out = lstm(return_sequences=True)\n",
        "lstm_out.shape, lstm_out"
      ],
      "metadata": {
        "colab": {
          "base_uri": "https://localhost:8080/"
        },
        "id": "Z_4832Go8JXw",
        "outputId": "568a27ec-399e-46ee-b583-75bdb4272e95"
      },
      "execution_count": 24,
      "outputs": [
        {
          "output_type": "stream",
          "name": "stdout",
          "text": [
            "----return_sequences=True\n",
            "1/1 [==============================] - 0s 327ms/step\n"
          ]
        },
        {
          "output_type": "execute_result",
          "data": {
            "text/plain": [
              "((2, 5, 3),\n",
              " array([[[ 0.05036221,  0.03548711, -0.16693464],\n",
              "         [ 0.36756083, -0.21324664,  0.14096953],\n",
              "         [ 0.38542596, -0.2888657 ,  0.27480155],\n",
              "         [ 0.1270014 , -0.07893647,  0.17077789],\n",
              "         [ 0.22793996, -0.21785195,  0.27632308]],\n",
              " \n",
              "        [[-0.00777443,  0.04540763, -0.07044486],\n",
              "         [-0.06497024, -0.3009203 ,  0.0902238 ],\n",
              "         [-0.03417871, -0.06164884,  0.07642759],\n",
              "         [-0.03974312, -0.19663633,  0.12427132],\n",
              "         [-0.17726132,  0.01890991,  0.04646362]]], dtype=float32))"
            ]
          },
          "metadata": {},
          "execution_count": 24
        }
      ]
    },
    {
      "cell_type": "code",
      "source": [
        "def lstm(return_state=False):\n",
        "  inp = Input(shape=(T, D))\n",
        "  out = LSTM(U, return_state=return_state)(inp)\n",
        "  model = Model(inputs=inp, outputs=out)\n",
        "  if return_state:\n",
        "    o, h, c = model.predict(X)\n",
        "    print('o:', o.shape)\n",
        "    print(o)\n",
        "    print('h:', h.shape)\n",
        "    print(h)\n",
        "    print('c:', c.shape)\n",
        "    print(c)\n",
        "  else:\n",
        "    o = model.predict(X)\n",
        "    print('o:', o.shape)\n",
        "    print(o)\n",
        "\n",
        "print('----return_state=False')\n",
        "lstm()\n",
        "print('----return_state=True')\n",
        "lstm(return_state=True)\n"
      ],
      "metadata": {
        "colab": {
          "base_uri": "https://localhost:8080/"
        },
        "id": "E6fqbIPt8qMa",
        "outputId": "9dda6f24-e603-45d8-d42c-2e13dc1bfe11"
      },
      "execution_count": 25,
      "outputs": [
        {
          "output_type": "stream",
          "name": "stdout",
          "text": [
            "----return_state=False\n",
            "1/1 [==============================] - 0s 348ms/step\n",
            "o: (2, 3)\n",
            "[[ 0.14960548 -0.19208433  0.13237055]\n",
            " [-0.19101419 -0.04614019 -0.192797  ]]\n",
            "----return_state=True\n",
            "1/1 [==============================] - 0s 328ms/step\n",
            "o: (2, 3)\n",
            "[[ 0.22299464 -0.1519229  -0.18894227]\n",
            " [ 0.23327349 -0.18648033  0.06530386]]\n",
            "h: (2, 3)\n",
            "[[ 0.22299464 -0.1519229  -0.18894227]\n",
            " [ 0.23327349 -0.18648033  0.06530386]]\n",
            "c: (2, 3)\n",
            "[[ 0.6513296  -0.34467825 -0.31529662]\n",
            " [ 0.33073503 -0.42570293  0.28122306]]\n"
          ]
        }
      ]
    },
    {
      "cell_type": "code",
      "source": [
        "T, D, U"
      ],
      "metadata": {
        "colab": {
          "base_uri": "https://localhost:8080/"
        },
        "id": "tscTyzqDu_Zu",
        "outputId": "bfae3558-d4cc-44d3-cd5f-b080f7790114"
      },
      "execution_count": 26,
      "outputs": [
        {
          "output_type": "execute_result",
          "data": {
            "text/plain": [
              "(5, 2, 3)"
            ]
          },
          "metadata": {},
          "execution_count": 26
        }
      ]
    },
    {
      "cell_type": "code",
      "source": [
        "def bi_lstm(return_sequences=False, return_state=False):\n",
        "  inp = Input(shape=(T, D))\n",
        "  out = Bidirectional(\n",
        "      LSTM(U, return_state=return_state, return_sequences=return_sequences)\n",
        "  )(inp)\n",
        "  model = Model(inputs=inp, outputs=out)\n",
        "  if return_state:\n",
        "    o, h1, c1, h2, c2 = model.predict(X)\n",
        "    print('o: ', o.shape)\n",
        "    print('h1: ', h1.shape)\n",
        "    print('c1: ', c1.shape)\n",
        "    print('h2: ', h2.shape)\n",
        "    print('c2: ', c2.shape)\n",
        "  else:\n",
        "    o = model.predict(X)\n",
        "    print('o: ', o.shape)"
      ],
      "metadata": {
        "id": "ku5A-ffuvKRE"
      },
      "execution_count": 27,
      "outputs": []
    },
    {
      "cell_type": "code",
      "source": [
        "print('---return_sequences=False---')\n",
        "bi_lstm()\n",
        "print('---return_sequences=True---')\n",
        "bi_lstm(return_sequences=True)\n",
        "print('---return_sequences=True, return_state=True---')\n",
        "bi_lstm(return_sequences=True, return_state=True)"
      ],
      "metadata": {
        "colab": {
          "base_uri": "https://localhost:8080/"
        },
        "id": "AfDS7TBpv12T",
        "outputId": "aef81412-92d1-4cd5-b74a-2e4559c3a75b"
      },
      "execution_count": 28,
      "outputs": [
        {
          "output_type": "stream",
          "name": "stdout",
          "text": [
            "---return_sequences=False---\n",
            "1/1 [==============================] - 1s 626ms/step\n",
            "o:  (2, 6)\n",
            "---return_sequences=True---\n",
            "1/1 [==============================] - 1s 621ms/step\n",
            "o:  (2, 5, 6)\n",
            "---return_sequences=True, return_state=True---\n",
            "1/1 [==============================] - 1s 634ms/step\n",
            "o:  (2, 5, 6)\n",
            "h1:  (2, 3)\n",
            "c1:  (2, 3)\n",
            "h2:  (2, 3)\n",
            "c2:  (2, 3)\n"
          ]
        }
      ]
    },
    {
      "cell_type": "code",
      "source": [
        "def gru(return_sequences=False, return_state=False):\n",
        "  inp = Input(shape=(T, D))\n",
        "  out = GRU(U, return_state=return_state, return_sequences=return_sequences)(inp)\n",
        "  model = Model(inputs=inp, outputs=out)\n",
        "  if return_state:\n",
        "    o, h = model.predict(X)\n",
        "    print('o: ', o.shape)\n",
        "    print('h: ', h.shape)\n",
        "  else:\n",
        "    o = model.predict(X)\n",
        "    print('o: ', o.shape)"
      ],
      "metadata": {
        "id": "hMk02ipqwTR-"
      },
      "execution_count": 29,
      "outputs": []
    },
    {
      "cell_type": "code",
      "source": [
        "print('---many to one---')\n",
        "gru()\n",
        "print('---many to many---')\n",
        "gru(return_sequences=True)\n",
        "print('---many to many with states---')\n",
        "gru(return_sequences=True, return_state=True)"
      ],
      "metadata": {
        "colab": {
          "base_uri": "https://localhost:8080/"
        },
        "id": "ogJEMX7fxEQc",
        "outputId": "183ae837-7f47-48be-c098-79ba4fc777d0"
      },
      "execution_count": 30,
      "outputs": [
        {
          "output_type": "stream",
          "name": "stdout",
          "text": [
            "---many to one---\n",
            "1/1 [==============================] - 0s 294ms/step\n",
            "o:  (2, 3)\n",
            "---many to many---\n",
            "1/1 [==============================] - 1s 759ms/step\n",
            "o:  (2, 5, 3)\n",
            "---many to many with states---\n",
            "1/1 [==============================] - 0s 456ms/step\n",
            "o:  (2, 5, 3)\n",
            "h:  (2, 3)\n"
          ]
        }
      ]
    },
    {
      "cell_type": "code",
      "source": [
        "def bi_gru(return_sequences=False, return_state=False):\n",
        "  inp = Input(shape=(T, D))\n",
        "  out = Bidirectional(\n",
        "      GRU(U, return_state=return_state, return_sequences=return_sequences)\n",
        "  )(inp)\n",
        "  model = Model(inputs=inp, outputs=out)\n",
        "  if return_state:\n",
        "    o, h1, h2 = model.predict(X)\n",
        "    print('o: ', o.shape)\n",
        "    print('h1: ', h1.shape)\n",
        "    print('h2: ', h2.shape)\n",
        "  else:\n",
        "    o = model.predict(X)\n",
        "    print('o: ', o.shape)"
      ],
      "metadata": {
        "id": "9Z9Xs7MSxVY9"
      },
      "execution_count": 31,
      "outputs": []
    },
    {
      "cell_type": "code",
      "source": [
        "print('---many to one---')\n",
        "bi_gru()\n",
        "print('---many to many---')\n",
        "bi_gru(return_sequences=True)\n",
        "print('---many to many with states---')\n",
        "bi_gru(return_sequences=True, return_state=True)"
      ],
      "metadata": {
        "colab": {
          "base_uri": "https://localhost:8080/"
        },
        "id": "ZTsMejeWxl_n",
        "outputId": "7a0da94e-6897-40b7-c7bc-acd0f5b6e9a2"
      },
      "execution_count": 32,
      "outputs": [
        {
          "output_type": "stream",
          "name": "stdout",
          "text": [
            "---many to one---\n",
            "1/1 [==============================] - 1s 791ms/step\n",
            "o:  (2, 6)\n",
            "---many to many---\n",
            "1/1 [==============================] - 1s 530ms/step\n",
            "o:  (2, 5, 6)\n",
            "---many to many with states---\n",
            "1/1 [==============================] - 1s 562ms/step\n",
            "o:  (2, 5, 6)\n",
            "h1:  (2, 3)\n",
            "h2:  (2, 3)\n"
          ]
        }
      ]
    },
    {
      "cell_type": "code",
      "source": [],
      "metadata": {
        "id": "s35YPNhGxuDs"
      },
      "execution_count": 32,
      "outputs": []
    }
  ]
}